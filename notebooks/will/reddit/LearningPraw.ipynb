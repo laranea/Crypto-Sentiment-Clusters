{
 "cells": [
  {
   "cell_type": "markdown",
   "metadata": {},
   "source": [
    "# Getting Started with PRAW\n",
    "\n",
    "- Create Reddit Account\n",
    "- Set up an \"App\" https://www.reddit.com/prefs/apps/\n",
    "- install PRAW library https://github.com/praw-dev/praw\n"
   ]
  },
  {
   "cell_type": "code",
   "execution_count": 3,
   "metadata": {},
   "outputs": [],
   "source": [
    "import os\n",
    "developer_key = os.getenv(\"REDDIT_PRAW_DEVELOPER\")\n",
    "CLIENT_ID = os.getenv(\"REDDIT_PRAW_PERSONAL_USE_SCRIPT\")\n",
    "CLIENT_SECRET = os.getenv(\"REDDIT_PRAW_SECRET\")\n",
    "USER = os.getenv(\"REDDIT_USER\")\n",
    "PASS = os.getenv(\"REDDIT_PASS\")"
   ]
  },
  {
   "cell_type": "code",
   "execution_count": 4,
   "metadata": {},
   "outputs": [],
   "source": [
    "import praw\n",
    "reddit = praw.Reddit(client_id=CLIENT_ID, client_secret=CLIENT_SECRET,\n",
    "                     password=PASS, user_agent='USERAGENT',\n",
    "                     username=USER)"
   ]
  },
  {
   "cell_type": "code",
   "execution_count": 5,
   "metadata": {},
   "outputs": [
    {
     "data": {
      "text/plain": [
       "Submission(id='du32qc')"
      ]
     },
     "execution_count": 5,
     "metadata": {},
     "output_type": "execute_result"
    }
   ],
   "source": [
    "reddit.subreddit('test').submit('Test Submission', url='https://reddit.com')"
   ]
  },
  {
   "cell_type": "code",
   "execution_count": null,
   "metadata": {},
   "outputs": [],
   "source": []
  }
 ],
 "metadata": {
  "kernelspec": {
   "display_name": "Python 3",
   "language": "python",
   "name": "python3"
  },
  "language_info": {
   "codemirror_mode": {
    "name": "ipython",
    "version": 3
   },
   "file_extension": ".py",
   "mimetype": "text/x-python",
   "name": "python",
   "nbconvert_exporter": "python",
   "pygments_lexer": "ipython3",
   "version": "3.7.3"
  }
 },
 "nbformat": 4,
 "nbformat_minor": 4
}

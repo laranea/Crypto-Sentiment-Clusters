{
 "cells": [
  {
   "cell_type": "code",
   "execution_count": 6,
   "metadata": {},
   "outputs": [],
   "source": [
    "import json\n",
    "import pathlib\n",
    "import pandas as pd\n",
    "import os"
   ]
  },
  {
   "cell_type": "code",
   "execution_count": 7,
   "metadata": {},
   "outputs": [
    {
     "name": "stderr",
     "output_type": "stream",
     "text": [
      "[nltk_data] Downloading package vader_lexicon to\n",
      "[nltk_data]     /home/will/nltk_data...\n",
      "[nltk_data]   Package vader_lexicon is already up-to-date!\n"
     ]
    }
   ],
   "source": [
    "from lib.helpers import *\n",
    "from lib.crypto import *\n",
    "from lib.sentimentframe import process_df"
   ]
  },
  {
   "cell_type": "code",
   "execution_count": 8,
   "metadata": {},
   "outputs": [],
   "source": [
    "import pprint\n",
    "pp = pprint.PrettyPrinter(indent=4)"
   ]
  },
  {
   "cell_type": "code",
   "execution_count": 9,
   "metadata": {},
   "outputs": [],
   "source": [
    "dirty_hourly = pathlib.Path('../../../data/dirty/hourly/')\n",
    "jsonl_files = os.listdir(dirty_hourly)"
   ]
  },
  {
   "cell_type": "markdown",
   "metadata": {},
   "source": [
    "## Parse/Extract data for ALL Days/files in folder"
   ]
  },
  {
   "cell_type": "markdown",
   "metadata": {},
   "source": [
    "`tilter_tweet_fields_as_dict` pulls specific fields/keys from a tweet, and returns them in a list of dicts"
   ]
  },
  {
   "cell_type": "code",
   "execution_count": 10,
   "metadata": {},
   "outputs": [],
   "source": [
    "all_tweets = []\n",
    "\n",
    "for file in jsonl_files[0:3]:\n",
    "    all_tweets.extend(filter_tweet_fields_as_dict(pathlib.Path(dirty_hourly,file)))"
   ]
  },
  {
   "cell_type": "code",
   "execution_count": 11,
   "metadata": {},
   "outputs": [
    {
     "name": "stdout",
     "output_type": "stream",
     "text": [
      "1500\n"
     ]
    }
   ],
   "source": [
    "print(len(all_tweets))"
   ]
  },
  {
   "cell_type": "markdown",
   "metadata": {},
   "source": [
    "## Convert List of Dicts to a DataFrame"
   ]
  },
  {
   "cell_type": "code",
   "execution_count": 12,
   "metadata": {},
   "outputs": [],
   "source": [
    "all_tweets_df = pd.DataFrame(all_tweets)"
   ]
  },
  {
   "cell_type": "markdown",
   "metadata": {},
   "source": [
    "## Show tweets that contain BTC & have been quoted more than 5 times"
   ]
  },
  {
   "cell_type": "code",
   "execution_count": 13,
   "metadata": {},
   "outputs": [],
   "source": [
    "#all_tweets_df[(all_tweets_df['full_text'].str.contains('BTC')) & (all_tweets_df['quoted_reply_count'] > 5)].head()"
   ]
  },
  {
   "cell_type": "code",
   "execution_count": 14,
   "metadata": {},
   "outputs": [],
   "source": [
    "#len(all_tweets_df)"
   ]
  },
  {
   "cell_type": "markdown",
   "metadata": {},
   "source": [
    "# Unique User ID's and Screen Names\n",
    "    not 1:1"
   ]
  },
  {
   "cell_type": "code",
   "execution_count": 15,
   "metadata": {},
   "outputs": [],
   "source": [
    "# pd.DataFrame({'screen_name': [all_tweets_df['screen_name'].nunique()],\n",
    "#                  'user_id': [all_tweets_df['user_id'].nunique()]\n",
    "#              })"
   ]
  },
  {
   "cell_type": "markdown",
   "metadata": {},
   "source": [
    "# Top 25 by Tweet"
   ]
  },
  {
   "cell_type": "code",
   "execution_count": 16,
   "metadata": {},
   "outputs": [],
   "source": [
    "#all_tweets_df.groupby(['screen_name'])['id','full_text'].count().sort_values(by=\"id\", ascending=False).head(25)"
   ]
  },
  {
   "cell_type": "markdown",
   "metadata": {},
   "source": [
    "# Top 25 by Retweets"
   ]
  },
  {
   "cell_type": "code",
   "execution_count": 17,
   "metadata": {},
   "outputs": [],
   "source": [
    "#all_tweets_df.groupby(['screen_name'])['id','rt_status_id'].count().sort_values(by=\"rt_status_id\", ascending=False).head(25)"
   ]
  },
  {
   "cell_type": "code",
   "execution_count": 18,
   "metadata": {},
   "outputs": [],
   "source": [
    "tweet_sentiment_df = process_df(all_tweets_df, tokenize=True, sentiment=True)"
   ]
  },
  {
   "cell_type": "code",
   "execution_count": 19,
   "metadata": {},
   "outputs": [],
   "source": [
    "# display(tweet_sentiment_df[(tweet_sentiment_df['quoted_quote_count'] > 5)].sort_values(by=\"rt_status_id\", ascending=False).head())\n",
    "# display(tweet_sentiment_df.dtypes)\n",
    "# display(tweet_sentiment_df.iloc[3]['clean_tokens'])"
   ]
  },
  {
   "cell_type": "code",
   "execution_count": 20,
   "metadata": {},
   "outputs": [
    {
     "data": {
      "text/plain": [
       "'HEAD'"
      ]
     },
     "metadata": {},
     "output_type": "display_data"
    },
    {
     "data": {
      "text/html": [
       "<div>\n",
       "<style scoped>\n",
       "    .dataframe tbody tr th:only-of-type {\n",
       "        vertical-align: middle;\n",
       "    }\n",
       "\n",
       "    .dataframe tbody tr th {\n",
       "        vertical-align: top;\n",
       "    }\n",
       "\n",
       "    .dataframe thead th {\n",
       "        text-align: right;\n",
       "    }\n",
       "</style>\n",
       "<table border=\"1\" class=\"dataframe\">\n",
       "  <thead>\n",
       "    <tr style=\"text-align: right;\">\n",
       "      <th></th>\n",
       "      <th>created_at</th>\n",
       "      <th>screen_name</th>\n",
       "      <th>full_text</th>\n",
       "      <th>id</th>\n",
       "      <th>lang</th>\n",
       "      <th>user_favourites_count</th>\n",
       "      <th>user_followers_count</th>\n",
       "      <th>user_friends_count</th>\n",
       "      <th>user_location</th>\n",
       "      <th>user_profile_image_url</th>\n",
       "      <th>...</th>\n",
       "      <th>mentions</th>\n",
       "      <th>mention_ids</th>\n",
       "      <th>quoted_quote_count</th>\n",
       "      <th>quoted_reply_count</th>\n",
       "      <th>quoted_retweet_count</th>\n",
       "      <th>clean_tokens</th>\n",
       "      <th>compound</th>\n",
       "      <th>negative</th>\n",
       "      <th>neutral</th>\n",
       "      <th>positive</th>\n",
       "    </tr>\n",
       "  </thead>\n",
       "  <tbody>\n",
       "    <tr>\n",
       "      <th>0</th>\n",
       "      <td>Tue Oct 29 11:58:59 +0000 2019</td>\n",
       "      <td>luisgfagundes</td>\n",
       "      <td>RT @CCNMarkets: Starbucks Will Accept Bitcoin ...</td>\n",
       "      <td>1189149629977452544</td>\n",
       "      <td>en</td>\n",
       "      <td>4301</td>\n",
       "      <td>177</td>\n",
       "      <td>461</td>\n",
       "      <td>Jacksonville Beach, FL</td>\n",
       "      <td>http://pbs.twimg.com/profile_images/9022587817...</td>\n",
       "      <td>...</td>\n",
       "      <td>[CCNMarkets]</td>\n",
       "      <td>[1856523530]</td>\n",
       "      <td>NaN</td>\n",
       "      <td>NaN</td>\n",
       "      <td>NaN</td>\n",
       "      <td>[rt, ccnmarkets, starbucks, accept, bitcoin, t...</td>\n",
       "      <td>0.0</td>\n",
       "      <td>0.560</td>\n",
       "      <td>0.440</td>\n",
       "      <td>0.6705</td>\n",
       "    </tr>\n",
       "    <tr>\n",
       "      <th>1</th>\n",
       "      <td>Tue Oct 29 11:58:59 +0000 2019</td>\n",
       "      <td>thefinancialfor</td>\n",
       "      <td>RT @thefinancialfor: Every year since 2015, #B...</td>\n",
       "      <td>1189149627469193216</td>\n",
       "      <td>en</td>\n",
       "      <td>199</td>\n",
       "      <td>1501</td>\n",
       "      <td>6</td>\n",
       "      <td>Amsterdam, Holanda</td>\n",
       "      <td>http://pbs.twimg.com/profile_images/1045031709...</td>\n",
       "      <td>...</td>\n",
       "      <td>[thefinancialfor]</td>\n",
       "      <td>[2557010554]</td>\n",
       "      <td>NaN</td>\n",
       "      <td>NaN</td>\n",
       "      <td>NaN</td>\n",
       "      <td>[rt, thefinancialfor, every, year, since, bitc...</td>\n",
       "      <td>0.0</td>\n",
       "      <td>0.505</td>\n",
       "      <td>0.495</td>\n",
       "      <td>0.8316</td>\n",
       "    </tr>\n",
       "    <tr>\n",
       "      <th>2</th>\n",
       "      <td>Tue Oct 29 11:58:57 +0000 2019</td>\n",
       "      <td>opp4wealth</td>\n",
       "      <td>RT @RedditBTC: This perfectly explains the cur...</td>\n",
       "      <td>1189149619713957888</td>\n",
       "      <td>en</td>\n",
       "      <td>2559</td>\n",
       "      <td>5846</td>\n",
       "      <td>6399</td>\n",
       "      <td>Lima / Peru</td>\n",
       "      <td>http://pbs.twimg.com/profile_images/1173000042...</td>\n",
       "      <td>...</td>\n",
       "      <td>[RedditBTC]</td>\n",
       "      <td>[951006367]</td>\n",
       "      <td>NaN</td>\n",
       "      <td>NaN</td>\n",
       "      <td>NaN</td>\n",
       "      <td>[rt, redditbtc, perfectly, explains, current, ...</td>\n",
       "      <td>0.0</td>\n",
       "      <td>0.756</td>\n",
       "      <td>0.244</td>\n",
       "      <td>0.6369</td>\n",
       "    </tr>\n",
       "    <tr>\n",
       "      <th>3</th>\n",
       "      <td>Tue Oct 29 11:58:56 +0000 2019</td>\n",
       "      <td>Techtelegraph4</td>\n",
       "      <td>Russian Metals Plant to Start Bitcoin Mining h...</td>\n",
       "      <td>1189149616459190272</td>\n",
       "      <td>en</td>\n",
       "      <td>2</td>\n",
       "      <td>72</td>\n",
       "      <td>6</td>\n",
       "      <td>None</td>\n",
       "      <td>http://pbs.twimg.com/profile_images/1183377561...</td>\n",
       "      <td>...</td>\n",
       "      <td>[]</td>\n",
       "      <td>[]</td>\n",
       "      <td>NaN</td>\n",
       "      <td>NaN</td>\n",
       "      <td>NaN</td>\n",
       "      <td>[russian, metal, plant, start, bitcoinmining, ...</td>\n",
       "      <td>0.0</td>\n",
       "      <td>1.000</td>\n",
       "      <td>0.000</td>\n",
       "      <td>0.0000</td>\n",
       "    </tr>\n",
       "    <tr>\n",
       "      <th>4</th>\n",
       "      <td>Tue Oct 29 11:58:52 +0000 2019</td>\n",
       "      <td>tiago60334177</td>\n",
       "      <td>RT @BitcollarDApp: 3 days to go in IEO phase o...</td>\n",
       "      <td>1189149599581265920</td>\n",
       "      <td>en</td>\n",
       "      <td>236</td>\n",
       "      <td>28</td>\n",
       "      <td>355</td>\n",
       "      <td>None</td>\n",
       "      <td>http://pbs.twimg.com/profile_images/1108826758...</td>\n",
       "      <td>...</td>\n",
       "      <td>[BitcollarDApp]</td>\n",
       "      <td>[1140825020463104000]</td>\n",
       "      <td>NaN</td>\n",
       "      <td>NaN</td>\n",
       "      <td>NaN</td>\n",
       "      <td>[rt, bitcollardapp, day, go, ieo, phase, one, ...</td>\n",
       "      <td>0.0</td>\n",
       "      <td>1.000</td>\n",
       "      <td>0.000</td>\n",
       "      <td>0.0000</td>\n",
       "    </tr>\n",
       "  </tbody>\n",
       "</table>\n",
       "<p>5 rows × 23 columns</p>\n",
       "</div>"
      ],
      "text/plain": [
       "                       created_at      screen_name  \\\n",
       "0  Tue Oct 29 11:58:59 +0000 2019    luisgfagundes   \n",
       "1  Tue Oct 29 11:58:59 +0000 2019  thefinancialfor   \n",
       "2  Tue Oct 29 11:58:57 +0000 2019       opp4wealth   \n",
       "3  Tue Oct 29 11:58:56 +0000 2019   Techtelegraph4   \n",
       "4  Tue Oct 29 11:58:52 +0000 2019    tiago60334177   \n",
       "\n",
       "                                           full_text                   id  \\\n",
       "0  RT @CCNMarkets: Starbucks Will Accept Bitcoin ...  1189149629977452544   \n",
       "1  RT @thefinancialfor: Every year since 2015, #B...  1189149627469193216   \n",
       "2  RT @RedditBTC: This perfectly explains the cur...  1189149619713957888   \n",
       "3  Russian Metals Plant to Start Bitcoin Mining h...  1189149616459190272   \n",
       "4  RT @BitcollarDApp: 3 days to go in IEO phase o...  1189149599581265920   \n",
       "\n",
       "  lang  user_favourites_count  user_followers_count  user_friends_count  \\\n",
       "0   en                   4301                   177                 461   \n",
       "1   en                    199                  1501                   6   \n",
       "2   en                   2559                  5846                6399   \n",
       "3   en                      2                    72                   6   \n",
       "4   en                    236                    28                 355   \n",
       "\n",
       "            user_location                             user_profile_image_url  \\\n",
       "0  Jacksonville Beach, FL  http://pbs.twimg.com/profile_images/9022587817...   \n",
       "1      Amsterdam, Holanda  http://pbs.twimg.com/profile_images/1045031709...   \n",
       "2             Lima / Peru  http://pbs.twimg.com/profile_images/1173000042...   \n",
       "3                    None  http://pbs.twimg.com/profile_images/1183377561...   \n",
       "4                    None  http://pbs.twimg.com/profile_images/1108826758...   \n",
       "\n",
       "   ...           mentions            mention_ids quoted_quote_count  \\\n",
       "0  ...       [CCNMarkets]           [1856523530]                NaN   \n",
       "1  ...  [thefinancialfor]           [2557010554]                NaN   \n",
       "2  ...        [RedditBTC]            [951006367]                NaN   \n",
       "3  ...                 []                     []                NaN   \n",
       "4  ...    [BitcollarDApp]  [1140825020463104000]                NaN   \n",
       "\n",
       "  quoted_reply_count quoted_retweet_count  \\\n",
       "0                NaN                  NaN   \n",
       "1                NaN                  NaN   \n",
       "2                NaN                  NaN   \n",
       "3                NaN                  NaN   \n",
       "4                NaN                  NaN   \n",
       "\n",
       "                                        clean_tokens  compound  negative  \\\n",
       "0  [rt, ccnmarkets, starbucks, accept, bitcoin, t...       0.0     0.560   \n",
       "1  [rt, thefinancialfor, every, year, since, bitc...       0.0     0.505   \n",
       "2  [rt, redditbtc, perfectly, explains, current, ...       0.0     0.756   \n",
       "3  [russian, metal, plant, start, bitcoinmining, ...       0.0     1.000   \n",
       "4  [rt, bitcollardapp, day, go, ieo, phase, one, ...       0.0     1.000   \n",
       "\n",
       "  neutral  positive  \n",
       "0   0.440    0.6705  \n",
       "1   0.495    0.8316  \n",
       "2   0.244    0.6369  \n",
       "3   0.000    0.0000  \n",
       "4   0.000    0.0000  \n",
       "\n",
       "[5 rows x 23 columns]"
      ]
     },
     "metadata": {},
     "output_type": "display_data"
    },
    {
     "data": {
      "text/plain": [
       "'TAIL'"
      ]
     },
     "metadata": {},
     "output_type": "display_data"
    },
    {
     "data": {
      "text/html": [
       "<div>\n",
       "<style scoped>\n",
       "    .dataframe tbody tr th:only-of-type {\n",
       "        vertical-align: middle;\n",
       "    }\n",
       "\n",
       "    .dataframe tbody tr th {\n",
       "        vertical-align: top;\n",
       "    }\n",
       "\n",
       "    .dataframe thead th {\n",
       "        text-align: right;\n",
       "    }\n",
       "</style>\n",
       "<table border=\"1\" class=\"dataframe\">\n",
       "  <thead>\n",
       "    <tr style=\"text-align: right;\">\n",
       "      <th></th>\n",
       "      <th>created_at</th>\n",
       "      <th>screen_name</th>\n",
       "      <th>full_text</th>\n",
       "      <th>id</th>\n",
       "      <th>lang</th>\n",
       "      <th>user_favourites_count</th>\n",
       "      <th>user_followers_count</th>\n",
       "      <th>user_friends_count</th>\n",
       "      <th>user_location</th>\n",
       "      <th>user_profile_image_url</th>\n",
       "      <th>...</th>\n",
       "      <th>mentions</th>\n",
       "      <th>mention_ids</th>\n",
       "      <th>quoted_quote_count</th>\n",
       "      <th>quoted_reply_count</th>\n",
       "      <th>quoted_retweet_count</th>\n",
       "      <th>clean_tokens</th>\n",
       "      <th>compound</th>\n",
       "      <th>negative</th>\n",
       "      <th>neutral</th>\n",
       "      <th>positive</th>\n",
       "    </tr>\n",
       "  </thead>\n",
       "  <tbody>\n",
       "    <tr>\n",
       "      <th>1495</th>\n",
       "      <td>Fri Oct 18 12:45:22 +0000 2019</td>\n",
       "      <td>Ratzekatze85</td>\n",
       "      <td>RT @cryptFund: Fake Tor Browser Has Been Spyin...</td>\n",
       "      <td>1185175033418866694</td>\n",
       "      <td>en</td>\n",
       "      <td>131</td>\n",
       "      <td>34</td>\n",
       "      <td>96</td>\n",
       "      <td>Oberheldrungen</td>\n",
       "      <td>http://pbs.twimg.com/profile_images/1150278681...</td>\n",
       "      <td>...</td>\n",
       "      <td>[cryptFund]</td>\n",
       "      <td>[969894202699145216]</td>\n",
       "      <td>NaN</td>\n",
       "      <td>NaN</td>\n",
       "      <td>NaN</td>\n",
       "      <td>[rt, cryptfund, fake, tor, browser, spying, st...</td>\n",
       "      <td>0.493</td>\n",
       "      <td>0.507</td>\n",
       "      <td>0.000</td>\n",
       "      <td>-0.7783</td>\n",
       "    </tr>\n",
       "    <tr>\n",
       "      <th>1496</th>\n",
       "      <td>Fri Oct 18 12:45:21 +0000 2019</td>\n",
       "      <td>cardsavvy</td>\n",
       "      <td>Crypto-Fueled Child Pornography Site Shuttered...</td>\n",
       "      <td>1185175031942471681</td>\n",
       "      <td>en</td>\n",
       "      <td>11</td>\n",
       "      <td>907</td>\n",
       "      <td>431</td>\n",
       "      <td>Punta Gorda, FL</td>\n",
       "      <td>http://pbs.twimg.com/profile_images/1193976327...</td>\n",
       "      <td>...</td>\n",
       "      <td>[]</td>\n",
       "      <td>[]</td>\n",
       "      <td>NaN</td>\n",
       "      <td>NaN</td>\n",
       "      <td>NaN</td>\n",
       "      <td>[cryptofueled, child, pornography, site, shutt...</td>\n",
       "      <td>0.000</td>\n",
       "      <td>1.000</td>\n",
       "      <td>0.000</td>\n",
       "      <td>0.0000</td>\n",
       "    </tr>\n",
       "    <tr>\n",
       "      <th>1497</th>\n",
       "      <td>Fri Oct 18 12:45:21 +0000 2019</td>\n",
       "      <td>jeniffe45644558</td>\n",
       "      <td>Win free bitcoin by playing LUCKY game,\\nHow t...</td>\n",
       "      <td>1185175029211947008</td>\n",
       "      <td>en</td>\n",
       "      <td>5578</td>\n",
       "      <td>4949</td>\n",
       "      <td>4788</td>\n",
       "      <td>New York, USA</td>\n",
       "      <td>http://pbs.twimg.com/profile_images/1189200962...</td>\n",
       "      <td>...</td>\n",
       "      <td>[]</td>\n",
       "      <td>[]</td>\n",
       "      <td>NaN</td>\n",
       "      <td>NaN</td>\n",
       "      <td>NaN</td>\n",
       "      <td>[win, free, bitcoin, playing, lucky, gamehow, ...</td>\n",
       "      <td>0.000</td>\n",
       "      <td>0.515</td>\n",
       "      <td>0.485</td>\n",
       "      <td>0.9201</td>\n",
       "    </tr>\n",
       "    <tr>\n",
       "      <th>1498</th>\n",
       "      <td>Fri Oct 18 12:45:20 +0000 2019</td>\n",
       "      <td>DeathByFiat</td>\n",
       "      <td>Bitcoin Whale Moves 10,000 BTC to Binance, Pot...</td>\n",
       "      <td>1185175026313682950</td>\n",
       "      <td>en</td>\n",
       "      <td>311</td>\n",
       "      <td>95</td>\n",
       "      <td>394</td>\n",
       "      <td>None</td>\n",
       "      <td>http://pbs.twimg.com/profile_images/1160215634...</td>\n",
       "      <td>...</td>\n",
       "      <td>[beincrypto]</td>\n",
       "      <td>[1021643080208801792]</td>\n",
       "      <td>NaN</td>\n",
       "      <td>NaN</td>\n",
       "      <td>NaN</td>\n",
       "      <td>[bitcoin, whale, move, btc, binance, potential...</td>\n",
       "      <td>0.206</td>\n",
       "      <td>0.794</td>\n",
       "      <td>0.000</td>\n",
       "      <td>-0.3818</td>\n",
       "    </tr>\n",
       "    <tr>\n",
       "      <th>1499</th>\n",
       "      <td>Fri Oct 18 12:45:20 +0000 2019</td>\n",
       "      <td>DeathByFiat</td>\n",
       "      <td>Bitcoin Whale Moves 10,000 BTC to Binance, Pot...</td>\n",
       "      <td>1185175026313682950</td>\n",
       "      <td>en</td>\n",
       "      <td>311</td>\n",
       "      <td>95</td>\n",
       "      <td>394</td>\n",
       "      <td>None</td>\n",
       "      <td>http://pbs.twimg.com/profile_images/1160215634...</td>\n",
       "      <td>...</td>\n",
       "      <td>[beincrypto]</td>\n",
       "      <td>[1021643080208801792]</td>\n",
       "      <td>NaN</td>\n",
       "      <td>NaN</td>\n",
       "      <td>NaN</td>\n",
       "      <td>[bitcoin, whale, move, btc, binance, potential...</td>\n",
       "      <td>0.206</td>\n",
       "      <td>0.794</td>\n",
       "      <td>0.000</td>\n",
       "      <td>-0.3818</td>\n",
       "    </tr>\n",
       "  </tbody>\n",
       "</table>\n",
       "<p>5 rows × 23 columns</p>\n",
       "</div>"
      ],
      "text/plain": [
       "                          created_at      screen_name  \\\n",
       "1495  Fri Oct 18 12:45:22 +0000 2019     Ratzekatze85   \n",
       "1496  Fri Oct 18 12:45:21 +0000 2019        cardsavvy   \n",
       "1497  Fri Oct 18 12:45:21 +0000 2019  jeniffe45644558   \n",
       "1498  Fri Oct 18 12:45:20 +0000 2019      DeathByFiat   \n",
       "1499  Fri Oct 18 12:45:20 +0000 2019      DeathByFiat   \n",
       "\n",
       "                                              full_text                   id  \\\n",
       "1495  RT @cryptFund: Fake Tor Browser Has Been Spyin...  1185175033418866694   \n",
       "1496  Crypto-Fueled Child Pornography Site Shuttered...  1185175031942471681   \n",
       "1497  Win free bitcoin by playing LUCKY game,\\nHow t...  1185175029211947008   \n",
       "1498  Bitcoin Whale Moves 10,000 BTC to Binance, Pot...  1185175026313682950   \n",
       "1499  Bitcoin Whale Moves 10,000 BTC to Binance, Pot...  1185175026313682950   \n",
       "\n",
       "     lang  user_favourites_count  user_followers_count  user_friends_count  \\\n",
       "1495   en                    131                    34                  96   \n",
       "1496   en                     11                   907                 431   \n",
       "1497   en                   5578                  4949                4788   \n",
       "1498   en                    311                    95                 394   \n",
       "1499   en                    311                    95                 394   \n",
       "\n",
       "        user_location                             user_profile_image_url  ...  \\\n",
       "1495   Oberheldrungen  http://pbs.twimg.com/profile_images/1150278681...  ...   \n",
       "1496  Punta Gorda, FL  http://pbs.twimg.com/profile_images/1193976327...  ...   \n",
       "1497    New York, USA  http://pbs.twimg.com/profile_images/1189200962...  ...   \n",
       "1498             None  http://pbs.twimg.com/profile_images/1160215634...  ...   \n",
       "1499             None  http://pbs.twimg.com/profile_images/1160215634...  ...   \n",
       "\n",
       "          mentions            mention_ids quoted_quote_count  \\\n",
       "1495   [cryptFund]   [969894202699145216]                NaN   \n",
       "1496            []                     []                NaN   \n",
       "1497            []                     []                NaN   \n",
       "1498  [beincrypto]  [1021643080208801792]                NaN   \n",
       "1499  [beincrypto]  [1021643080208801792]                NaN   \n",
       "\n",
       "     quoted_reply_count quoted_retweet_count  \\\n",
       "1495                NaN                  NaN   \n",
       "1496                NaN                  NaN   \n",
       "1497                NaN                  NaN   \n",
       "1498                NaN                  NaN   \n",
       "1499                NaN                  NaN   \n",
       "\n",
       "                                           clean_tokens  compound  negative  \\\n",
       "1495  [rt, cryptfund, fake, tor, browser, spying, st...     0.493     0.507   \n",
       "1496  [cryptofueled, child, pornography, site, shutt...     0.000     1.000   \n",
       "1497  [win, free, bitcoin, playing, lucky, gamehow, ...     0.000     0.515   \n",
       "1498  [bitcoin, whale, move, btc, binance, potential...     0.206     0.794   \n",
       "1499  [bitcoin, whale, move, btc, binance, potential...     0.206     0.794   \n",
       "\n",
       "     neutral  positive  \n",
       "1495   0.000   -0.7783  \n",
       "1496   0.000    0.0000  \n",
       "1497   0.485    0.9201  \n",
       "1498   0.000   -0.3818  \n",
       "1499   0.000   -0.3818  \n",
       "\n",
       "[5 rows x 23 columns]"
      ]
     },
     "metadata": {},
     "output_type": "display_data"
    }
   ],
   "source": [
    "display(\"HEAD\")\n",
    "display(tweet_sentiment_df.head())\n",
    "display(\"TAIL\")\n",
    "display(tweet_sentiment_df.tail())"
   ]
  },
  {
   "cell_type": "code",
   "execution_count": 19,
   "metadata": {},
   "outputs": [],
   "source": [
    "tweet_sentiment_df['created_at'] = pd.to_datetime(tweet_sentiment_df['created_at'])"
   ]
  },
  {
   "cell_type": "code",
   "execution_count": 21,
   "metadata": {},
   "outputs": [],
   "source": [
    "df1 = tweet_sentiment_df.iloc[:100_000]\n",
    "df2 = tweet_sentiment_df.iloc[100_000:]\n",
    "\n",
    "df1.to_pickle(\"./twitter_sentiment1.pkl\")\n",
    "df2.to_pickle(\"./twitter_sentiment2.pkl\")"
   ]
  },
  {
   "cell_type": "code",
   "execution_count": 21,
   "metadata": {},
   "outputs": [],
   "source": [
    "# tweet_sentiment_df.resample()\n",
    "# tweet_sentiment_df.groupby(created_at.dt.date).mean()\n",
    "\n",
    "# This.\n",
    "#tweet_sentiment_df.resample('D', on='created_at').mean()"
   ]
  },
  {
   "cell_type": "code",
   "execution_count": 24,
   "metadata": {},
   "outputs": [],
   "source": [
    "#tweet_sentiment_df.drop(columns=['id', 'retweet_count','compound'], inplace=True)"
   ]
  },
  {
   "cell_type": "code",
   "execution_count": 22,
   "metadata": {},
   "outputs": [],
   "source": [
    "#chart = tweet_sentiment_df[['created_at','negative','neutral','positive']]\n",
    "#chart_df = chart.resample('D', on='created_at').mean()\n",
    "#chart_df.plot(figsize=(50,10), kind='bar', stacked=True, width=1.0)"
   ]
  },
  {
   "cell_type": "code",
   "execution_count": 23,
   "metadata": {},
   "outputs": [
    {
     "ename": "NameError",
     "evalue": "name 'chart' is not defined",
     "output_type": "error",
     "traceback": [
      "\u001b[0;31m---------------------------------------------------------------------------\u001b[0m",
      "\u001b[0;31mNameError\u001b[0m                                 Traceback (most recent call last)",
      "\u001b[0;32m<ipython-input-23-29d9b2dd9809>\u001b[0m in \u001b[0;36m<module>\u001b[0;34m\u001b[0m\n\u001b[0;32m----> 1\u001b[0;31m \u001b[0mchart\u001b[0m\u001b[0;34m\u001b[0m\u001b[0;34m\u001b[0m\u001b[0m\n\u001b[0m",
      "\u001b[0;31mNameError\u001b[0m: name 'chart' is not defined"
     ]
    }
   ],
   "source": [
    "chart"
   ]
  },
  {
   "cell_type": "code",
   "execution_count": null,
   "metadata": {},
   "outputs": [],
   "source": []
  },
  {
   "cell_type": "code",
   "execution_count": 24,
   "metadata": {},
   "outputs": [],
   "source": [
    "# chart = tweet_sentiment_df[['created_at','negative','neutral','positive']]\n",
    "# chart[chart['neutral']<.4].resample('H', on='created_at').mean().plot(figsize=(50,10), kind='bar', stacked=True, width=1.0)"
   ]
  },
  {
   "cell_type": "code",
   "execution_count": 25,
   "metadata": {},
   "outputs": [],
   "source": [
    "# dirty_hourly_btc = pathlib.Path('../../../data/dirty/crypto/Coinbase_BTCUSD_1h.csv')\n",
    "# BTC_price = pd.read_csv(dirty_hourly_btc,header=1)\n",
    "# BTC_price.head()"
   ]
  },
  {
   "cell_type": "markdown",
   "metadata": {},
   "source": [
    "# Save Sentiment as Pickle File \n",
    "\n",
    "\n",
    "\n"
   ]
  },
  {
   "cell_type": "code",
   "execution_count": 27,
   "metadata": {},
   "outputs": [],
   "source": [
    "#tweet_sentiment_df.to_pickle(\"./twitter_sentiment.pkl\")"
   ]
  },
  {
   "cell_type": "code",
   "execution_count": null,
   "metadata": {},
   "outputs": [],
   "source": []
  },
  {
   "cell_type": "code",
   "execution_count": null,
   "metadata": {},
   "outputs": [],
   "source": []
  }
 ],
 "metadata": {
  "kernelspec": {
   "display_name": "Python 3",
   "language": "python",
   "name": "python3"
  },
  "language_info": {
   "codemirror_mode": {
    "name": "ipython",
    "version": 3
   },
   "file_extension": ".py",
   "mimetype": "text/x-python",
   "name": "python",
   "nbconvert_exporter": "python",
   "pygments_lexer": "ipython3",
   "version": "3.7.3"
  }
 },
 "nbformat": 4,
 "nbformat_minor": 4
}

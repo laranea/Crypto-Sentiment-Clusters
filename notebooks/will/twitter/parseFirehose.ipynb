{
 "cells": [
  {
   "cell_type": "code",
   "execution_count": 33,
   "metadata": {},
   "outputs": [],
   "source": [
    "import pprint as pp\n",
    "import json\n",
    "from pathlib import Path\n",
    "import pandas as pd"
   ]
  },
  {
   "cell_type": "code",
   "execution_count": 34,
   "metadata": {},
   "outputs": [],
   "source": [
    "twitter_hose = Path('../../../data/dirty/pushshift.io/twitter/samplehose_hourly/SH_tweets_2019-10-05-01_filtered.json')"
   ]
  },
  {
   "cell_type": "code",
   "execution_count": 37,
   "metadata": {},
   "outputs": [],
   "source": [
    "all_tweets = []\n",
    "\n",
    "with open(twitter_hose, encoding='utf-8') as f:\n",
    "    for line in f:\n",
    "        data = json.loads(line)\n",
    "        #pp.pprint(data)\n",
    "        #break\n",
    "        \n",
    "        captured_fields = {\n",
    "        \"created_at\" : data['created_at'],\n",
    "        \"screen_name\" : data['user']['screen_name'],\n",
    "        \"full_text\" : data['text'],\n",
    "        }\n",
    "        \n",
    "        if 'extended_tweet' in data:\n",
    "            captured_fields['full_text'] = data['extended_tweet']['full_text']\n",
    "        \n",
    "        all_tweets.append(captured_fields)"
   ]
  },
  {
   "cell_type": "code",
   "execution_count": 39,
   "metadata": {},
   "outputs": [
    {
     "data": {
      "text/html": [
       "<div>\n",
       "<style scoped>\n",
       "    .dataframe tbody tr th:only-of-type {\n",
       "        vertical-align: middle;\n",
       "    }\n",
       "\n",
       "    .dataframe tbody tr th {\n",
       "        vertical-align: top;\n",
       "    }\n",
       "\n",
       "    .dataframe thead th {\n",
       "        text-align: right;\n",
       "    }\n",
       "</style>\n",
       "<table border=\"1\" class=\"dataframe\">\n",
       "  <thead>\n",
       "    <tr style=\"text-align: right;\">\n",
       "      <th></th>\n",
       "      <th>created_at</th>\n",
       "      <th>full_text</th>\n",
       "      <th>screen_name</th>\n",
       "    </tr>\n",
       "  </thead>\n",
       "  <tbody>\n",
       "    <tr>\n",
       "      <th>0</th>\n",
       "      <td>Sat Oct 05 01:32:28 +0000 2019</td>\n",
       "      <td>#Disney is hiring a Digital #Sales #Planner  (...</td>\n",
       "      <td>BethMerrick5</td>\n",
       "    </tr>\n",
       "    <tr>\n",
       "      <th>1</th>\n",
       "      <td>Sat Oct 05 01:32:30 +0000 2019</td>\n",
       "      <td>https://t.co/yLtd6MyTkd</td>\n",
       "      <td>janeth_elizabet</td>\n",
       "    </tr>\n",
       "    <tr>\n",
       "      <th>2</th>\n",
       "      <td>Sat Oct 05 01:32:40 +0000 2019</td>\n",
       "      <td>@realDonaldTrump @FoxNews https://t.co/vk7ct7Ats3</td>\n",
       "      <td>Twilliams1991</td>\n",
       "    </tr>\n",
       "    <tr>\n",
       "      <th>3</th>\n",
       "      <td>Sat Oct 05 01:33:02 +0000 2019</td>\n",
       "      <td>And now the BIG DAWG Roman Reigns #SmackDown</td>\n",
       "      <td>SPBITW9</td>\n",
       "    </tr>\n",
       "    <tr>\n",
       "      <th>4</th>\n",
       "      <td>Sat Oct 05 01:33:11 +0000 2019</td>\n",
       "      <td>RT @basicsmood: https://t.co/mSGpPKuI7E</td>\n",
       "      <td>mrgsjnvrro</td>\n",
       "    </tr>\n",
       "  </tbody>\n",
       "</table>\n",
       "</div>"
      ],
      "text/plain": [
       "                       created_at  \\\n",
       "0  Sat Oct 05 01:32:28 +0000 2019   \n",
       "1  Sat Oct 05 01:32:30 +0000 2019   \n",
       "2  Sat Oct 05 01:32:40 +0000 2019   \n",
       "3  Sat Oct 05 01:33:02 +0000 2019   \n",
       "4  Sat Oct 05 01:33:11 +0000 2019   \n",
       "\n",
       "                                           full_text      screen_name  \n",
       "0  #Disney is hiring a Digital #Sales #Planner  (...     BethMerrick5  \n",
       "1                            https://t.co/yLtd6MyTkd  janeth_elizabet  \n",
       "2  @realDonaldTrump @FoxNews https://t.co/vk7ct7Ats3    Twilliams1991  \n",
       "3       And now the BIG DAWG Roman Reigns #SmackDown          SPBITW9  \n",
       "4            RT @basicsmood: https://t.co/mSGpPKuI7E       mrgsjnvrro  "
      ]
     },
     "execution_count": 39,
     "metadata": {},
     "output_type": "execute_result"
    }
   ],
   "source": [
    "#pp.pprint(all_tweets)\n",
    "df = pd.DataFrame(all_tweets)\n",
    "df.head()"
   ]
  },
  {
   "cell_type": "code",
   "execution_count": 42,
   "metadata": {},
   "outputs": [
    {
     "data": {
      "text/html": [
       "<div>\n",
       "<style scoped>\n",
       "    .dataframe tbody tr th:only-of-type {\n",
       "        vertical-align: middle;\n",
       "    }\n",
       "\n",
       "    .dataframe tbody tr th {\n",
       "        vertical-align: top;\n",
       "    }\n",
       "\n",
       "    .dataframe thead th {\n",
       "        text-align: right;\n",
       "    }\n",
       "</style>\n",
       "<table border=\"1\" class=\"dataframe\">\n",
       "  <thead>\n",
       "    <tr style=\"text-align: right;\">\n",
       "      <th></th>\n",
       "      <th>created_at</th>\n",
       "      <th>full_text</th>\n",
       "      <th>screen_name</th>\n",
       "    </tr>\n",
       "  </thead>\n",
       "  <tbody>\n",
       "    <tr>\n",
       "      <th>32</th>\n",
       "      <td>Sat Oct 05 01:35:02 +0000 2019</td>\n",
       "      <td>RT @XRPcryptowolf: 200 $XRP #GIVEAWAY\\n\\nSpons...</td>\n",
       "      <td>toanphamhd</td>\n",
       "    </tr>\n",
       "    <tr>\n",
       "      <th>147</th>\n",
       "      <td>Sat Oct 05 01:45:44 +0000 2019</td>\n",
       "      <td>RT @JessumDoode: @22centurycrypto Separate CSW...</td>\n",
       "      <td>23pluton</td>\n",
       "    </tr>\n",
       "    <tr>\n",
       "      <th>161</th>\n",
       "      <td>Sat Oct 05 01:46:47 +0000 2019</td>\n",
       "      <td>RT @cryptounfolded: #Bitcoin Twitter mentions ...</td>\n",
       "      <td>chrismezzz</td>\n",
       "    </tr>\n",
       "    <tr>\n",
       "      <th>198</th>\n",
       "      <td>Sat Oct 05 01:50:08 +0000 2019</td>\n",
       "      <td>@coincodecap @ParticlProject It's amazing ! I ...</td>\n",
       "      <td>JeremyS24205084</td>\n",
       "    </tr>\n",
       "  </tbody>\n",
       "</table>\n",
       "</div>"
      ],
      "text/plain": [
       "                         created_at  \\\n",
       "32   Sat Oct 05 01:35:02 +0000 2019   \n",
       "147  Sat Oct 05 01:45:44 +0000 2019   \n",
       "161  Sat Oct 05 01:46:47 +0000 2019   \n",
       "198  Sat Oct 05 01:50:08 +0000 2019   \n",
       "\n",
       "                                             full_text      screen_name  \n",
       "32   RT @XRPcryptowolf: 200 $XRP #GIVEAWAY\\n\\nSpons...       toanphamhd  \n",
       "147  RT @JessumDoode: @22centurycrypto Separate CSW...         23pluton  \n",
       "161  RT @cryptounfolded: #Bitcoin Twitter mentions ...       chrismezzz  \n",
       "198  @coincodecap @ParticlProject It's amazing ! I ...  JeremyS24205084  "
      ]
     },
     "execution_count": 42,
     "metadata": {},
     "output_type": "execute_result"
    }
   ],
   "source": [
    "df[df['full_text'].str.contains('crypto')]"
   ]
  },
  {
   "cell_type": "code",
   "execution_count": 43,
   "metadata": {},
   "outputs": [
    {
     "data": {
      "text/html": [
       "<div>\n",
       "<style scoped>\n",
       "    .dataframe tbody tr th:only-of-type {\n",
       "        vertical-align: middle;\n",
       "    }\n",
       "\n",
       "    .dataframe tbody tr th {\n",
       "        vertical-align: top;\n",
       "    }\n",
       "\n",
       "    .dataframe thead th {\n",
       "        text-align: right;\n",
       "    }\n",
       "</style>\n",
       "<table border=\"1\" class=\"dataframe\">\n",
       "  <thead>\n",
       "    <tr style=\"text-align: right;\">\n",
       "      <th></th>\n",
       "      <th>created_at</th>\n",
       "      <th>full_text</th>\n",
       "      <th>screen_name</th>\n",
       "    </tr>\n",
       "  </thead>\n",
       "  <tbody>\n",
       "    <tr>\n",
       "      <th>50</th>\n",
       "      <td>Sat Oct 05 01:36:43 +0000 2019</td>\n",
       "      <td>🌈World's First‼🌈\\n\\nGold price link BTC 100% s...</td>\n",
       "      <td>chiaki95159</td>\n",
       "    </tr>\n",
       "    <tr>\n",
       "      <th>149</th>\n",
       "      <td>Sat Oct 05 01:46:06 +0000 2019</td>\n",
       "      <td>買いが弱くなってる？\\nこれの見方未だ良く理解出来ていない\\n#BTC https://t....</td>\n",
       "      <td>qnfb0YWbXPmcWqo</td>\n",
       "    </tr>\n",
       "    <tr>\n",
       "      <th>225</th>\n",
       "      <td>Sat Oct 05 01:52:35 +0000 2019</td>\n",
       "      <td>@doug3rd @princeantenor @brucefenton It may no...</td>\n",
       "      <td>beernameno</td>\n",
       "    </tr>\n",
       "  </tbody>\n",
       "</table>\n",
       "</div>"
      ],
      "text/plain": [
       "                         created_at  \\\n",
       "50   Sat Oct 05 01:36:43 +0000 2019   \n",
       "149  Sat Oct 05 01:46:06 +0000 2019   \n",
       "225  Sat Oct 05 01:52:35 +0000 2019   \n",
       "\n",
       "                                             full_text      screen_name  \n",
       "50   🌈World's First‼🌈\\n\\nGold price link BTC 100% s...      chiaki95159  \n",
       "149  買いが弱くなってる？\\nこれの見方未だ良く理解出来ていない\\n#BTC https://t....  qnfb0YWbXPmcWqo  \n",
       "225  @doug3rd @princeantenor @brucefenton It may no...       beernameno  "
      ]
     },
     "execution_count": 43,
     "metadata": {},
     "output_type": "execute_result"
    }
   ],
   "source": [
    "df[df['full_text'].str.contains('BTC')]"
   ]
  },
  {
   "cell_type": "code",
   "execution_count": 44,
   "metadata": {},
   "outputs": [
    {
     "data": {
      "text/html": [
       "<div>\n",
       "<style scoped>\n",
       "    .dataframe tbody tr th:only-of-type {\n",
       "        vertical-align: middle;\n",
       "    }\n",
       "\n",
       "    .dataframe tbody tr th {\n",
       "        vertical-align: top;\n",
       "    }\n",
       "\n",
       "    .dataframe thead th {\n",
       "        text-align: right;\n",
       "    }\n",
       "</style>\n",
       "<table border=\"1\" class=\"dataframe\">\n",
       "  <thead>\n",
       "    <tr style=\"text-align: right;\">\n",
       "      <th></th>\n",
       "      <th>created_at</th>\n",
       "      <th>full_text</th>\n",
       "      <th>screen_name</th>\n",
       "    </tr>\n",
       "  </thead>\n",
       "  <tbody>\n",
       "    <tr>\n",
       "      <th>117</th>\n",
       "      <td>Sat Oct 05 01:42:03 +0000 2019</td>\n",
       "      <td>@jasminexETH got finessed...</td>\n",
       "      <td>773Emo</td>\n",
       "    </tr>\n",
       "  </tbody>\n",
       "</table>\n",
       "</div>"
      ],
      "text/plain": [
       "                         created_at                     full_text screen_name\n",
       "117  Sat Oct 05 01:42:03 +0000 2019  @jasminexETH got finessed...      773Emo"
      ]
     },
     "execution_count": 44,
     "metadata": {},
     "output_type": "execute_result"
    }
   ],
   "source": [
    "df[df['full_text'].str.contains('ETH')]"
   ]
  },
  {
   "cell_type": "code",
   "execution_count": null,
   "metadata": {},
   "outputs": [],
   "source": []
  }
 ],
 "metadata": {
  "kernelspec": {
   "display_name": "Python 3",
   "language": "python",
   "name": "python3"
  },
  "language_info": {
   "codemirror_mode": {
    "name": "ipython",
    "version": 3
   },
   "file_extension": ".py",
   "mimetype": "text/x-python",
   "name": "python",
   "nbconvert_exporter": "python",
   "pygments_lexer": "ipython3",
   "version": "3.7.3"
  }
 },
 "nbformat": 4,
 "nbformat_minor": 4
}

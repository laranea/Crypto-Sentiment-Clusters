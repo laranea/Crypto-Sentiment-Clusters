{
 "cells": [
  {
   "cell_type": "markdown",
   "metadata": {},
   "source": [
    "# Getting Started with PRAW\n",
    "\n",
    "- Create Reddit Account\n",
    "- Set up an \"App\" https://www.reddit.com/prefs/apps/\n",
    "- install PRAW library https://github.com/praw-dev/praw\n"
   ]
  },
  {
   "cell_type": "code",
   "execution_count": 1,
   "metadata": {},
   "outputs": [],
   "source": [
    "import os\n",
    "import praw\n",
    "\n",
    "\n",
    "developer_key = os.getenv(\"REDDIT_PRAW_DEVELOPER\")\n",
    "CLIENT_ID = os.getenv(\"REDDIT_PRAW_ID\")\n",
    "CLIENT_SECRET = os.getenv(\"REDDIT_SECRET\")\n",
    "USER = os.getenv(\"REDDIT_USER\")\n",
    "PASS = os.getenv(\"REDDIT_PASS\")\n",
    "\n",
    "user_agent = os.getenv('user_agent')"
   ]
  },
  {
   "cell_type": "code",
   "execution_count": 2,
   "metadata": {},
   "outputs": [
    {
     "name": "stdout",
     "output_type": "stream",
     "text": [
      "Python learner first reddit try\n",
      "bfqDL7EQviUr7g\n",
      "xB3fb6b6rrlr6MwtQHz5JwbQ3fw\n"
     ]
    }
   ],
   "source": [
    "print(user_agent)\n",
    "print(CLIENT_ID)\n",
    "print(CLIENT_SECRET)"
   ]
  },
  {
   "cell_type": "code",
   "execution_count": null,
   "metadata": {},
   "outputs": [],
   "source": [
    "\n"
   ]
  },
  {
   "cell_type": "code",
   "execution_count": 11,
   "metadata": {},
   "outputs": [],
   "source": [
    "import praw\n",
    "reddit = praw.Reddit(client_id=CLIENT_ID, client_secret=CLIENT_SECRET, user_name = USER, password = PASS,\n",
    "                     user_agent=user_agent)"
   ]
  },
  {
   "cell_type": "code",
   "execution_count": 18,
   "metadata": {},
   "outputs": [
    {
     "name": "stdout",
     "output_type": "stream",
     "text": [
      "True\n"
     ]
    }
   ],
   "source": [
    "print(reddit.read_only)\n",
    "\n",
    "\n",
    "subreddit = reddit.subreddit('bitcoin')"
   ]
  },
  {
   "cell_type": "code",
   "execution_count": 61,
   "metadata": {},
   "outputs": [
    {
     "name": "stdout",
     "output_type": "stream",
     "text": [
      "Bitcoin Optech Newsletter #72\n",
      "dvrix6\n",
      "chiefy81 1679\n",
      "Daily Discussion, November 15, 2019\n",
      "dwn2bj\n",
      "rBitcoinMod 19785\n",
      "My hardware wallet\n",
      "dwtxry\n",
      "dogefellowship 2114\n",
      "A Journal from 1932 During Great Depression: Note the Feb 10 Comment...\n",
      "dwxw75\n",
      "CryptoBeez 136\n",
      "Owning ONE Bitcoin\n",
      "dwrwip\n",
      "keaniie 1040\n",
      "Global Debt To End 2019 At A Record High Of $255 Trillion, 330% Of World GDP\n",
      "dx05q5\n",
      "bitsteiner 16640\n",
      "Federal Reserve Loaned Equivalent of 12.7M Bitcoins to Bailout Banks (In One Day)\n",
      "dwqhp3\n",
      "beincrypto 7205\n",
      "Constructing a Taproot output and spending it in the \"everyone agrees\" case. Shamelessly simplified.\n",
      "dwxchw\n",
      "kallerosenbaum 716\n",
      "I just had this epiphany\n",
      "dwweag\n",
      "Doggcow 21063\n",
      "Bitcoin Donations Alone Built a Preschool in Rwanda\n",
      "dwsp8y\n",
      "nicpir 48\n"
     ]
    }
   ],
   "source": [
    "for submission in subreddit.hot(limit=10):\n",
    "    print(submission.title)\n",
    "#     print(submission.body) #doesnt exist\n",
    "    print(submission.id)\n",
    "    print(submission.author,submission.author.link_karma)"
   ]
  },
  {
   "cell_type": "code",
   "execution_count": 44,
   "metadata": {},
   "outputs": [],
   "source": [
    "#create loop over list of posts that creats list of authors and karma \n",
    "\n",
    "authors = []\n",
    "karma = []\n",
    "for submission in subreddit.hot(limit=10):\n",
    "    \n",
    "    authors.append(submission.author)\n",
    "    karma.append(submission.author.link_karma)\n",
    "    \n",
    "    good_try = list(authors + karma)"
   ]
  },
  {
   "cell_type": "code",
   "execution_count": 55,
   "metadata": {},
   "outputs": [
    {
     "name": "stdout",
     "output_type": "stream",
     "text": [
      "<praw.models.comment_forest.CommentForest object at 0x000002CC8DA58648>\n"
     ]
    }
   ],
   "source": [
    "# assume you have a Reddit instance bound to variable `reddit`\n",
    "top_level_comments = list(submission.comments)\n",
    "all_comments = submission.comments.list()\n",
    "\n",
    "print(submission.comments)"
   ]
  },
  {
   "cell_type": "code",
   "execution_count": 38,
   "metadata": {},
   "outputs": [
    {
     "data": {
      "text/plain": [
       "[Redditor(name='nicpir'), 47]"
      ]
     },
     "execution_count": 38,
     "metadata": {},
     "output_type": "execute_result"
    }
   ],
   "source": [
    "x = submission.author,submission.author.link_karma\n",
    "list(x)"
   ]
  },
  {
   "cell_type": "code",
   "execution_count": 87,
   "metadata": {},
   "outputs": [
    {
     "data": {
      "text/plain": [
       "'Daily Discussion, November 15, 2019'"
      ]
     },
     "execution_count": 87,
     "metadata": {},
     "output_type": "execute_result"
    }
   ],
   "source": [
    "# assume you have a Reddit instance bound to variable `reddit`\n",
    "{days}\n",
    "submission = reddit.submission(id='dwn2bj')\n",
    "submission.comment_sort = 'top'\n",
    "top_level_comments = list(submission.comments)\n",
    "\n",
    "submission.title"
   ]
  },
  {
   "cell_type": "code",
   "execution_count": 94,
   "metadata": {},
   "outputs": [
    {
     "name": "stdout",
     "output_type": "stream",
     "text": [
      "Daily Discussion, November 15, 2019\n",
      "top_level_comment:lucid-nirvana, 23, The road to high returns is rarely a comfortable ride. If it was, everyone would take that path and there would be no more returns. The only way to make big gains is to experience multiple periods of a high risk of losing. \n",
      "\n",
      "There’s a very good reason why they say don’t invest in Bitcoin if you don’t have the stomach for volatility. If you come on a sub such as this and complain and whine about price drops, you are literally complaining about the very environment and makes high returns possible, and Bitcoin may not be for you.\n",
      "top_level_comment:cryptogrip, 8, In terms of speculative investments, I look at the stock price movement of Canopy Growth Corp and am reminded that things could be much much worse. In fact, I'd consider Bitcoin the best option for speculative investing on the planet. It's also been the best performing investment of the past decade, speculative or otherwise.\n",
      "top_level_comment:ivegotayakonmychest, 9, Sup nerds. Fuck the price. I will be using bitcoin in 2030 to buy errythang\n",
      "top_level_comment:parakite, 6, No need to come to /r/bitcoin for any news. There is nothing new here.\n",
      "\n",
      "News is given by companies that have to declare partnerships, new roadmaps, etc for their coins.\n",
      "\n",
      "bitcoin doesn't have a ceo, nor partnerships to declare. It doesn't have a roadmap, except whats already in code and executable installed on 100000+ machines worldwide.\n",
      "\n",
      "So, no need to actually track news. Hodl, and check the latest once every few months. Keep using it too. Check out the latest wallets once in a while.\n",
      "top_level_comment:JKLO99, 6, Unfortunately I bought most of my BTC holdings around the $12k mark. With every passing day it drops I feel a little more foolish. Im not selling, but it sure is dispiriting.\n",
      "top_level_comment:spiffyXD, 6, Good evening Bitcoiners!!! Let’s make Bitcoin great together! Wear a Bitcoin t-shirt whenever you have the chance!!\n",
      "top_level_comment:btc-future-retiree, 6, Were still above 8,250 thats all that matters in terms of supports.  Im not afraid to go lower, the last couple months have changed my outlook, its just too hard to drive the price down and there is too much infostructure being built into the space.  Its a no brainer to own bitcoin and if your waiting for the lowest price possible then just buy in half your position now at the least so you dont get left behind\n",
      "top_level_comment:ProctoKopf, 5, Jimmy's insights into Bitcoin are always an inspiration. [https://medium.com/@jimmysong/on-altcoin-valuation-bf19a30ee0df](https://medium.com/@jimmysong/on-altcoin-valuation-bf19a30ee0df)\n",
      "top_level_comment:mike-es6, 4, If we are waiting for the moon, is this low earth orbit or merely a suborbital flight?\n",
      "top_level_comment:TheThird__, 3, Bitcoin Mempool.\n",
      "\n",
      "what's happening ?\n",
      "\n",
      "🤔\n",
      "top_level_comment:BitcoinAlways, 4, **Worth a listen to imo and also makes me think the whole crypto community should make far more effort in pointing out scams, this scam took between $4 billion and $15 billion.  That's obviously a crazy huge amount and possibly some of that could have gone into Bitcoin, instead it went to scammers.**\n",
      "\n",
      "**Podcast -**  What Bitcoiners Can Learn from the OneCoin Scam with Jamie Bartlett\n",
      "\n",
      "[https://www.youtube.com/watch?v=9VrJQB0aXlg](https://www.youtube.com/watch?v=9VrJQB0aXlg)\n",
      "\n",
      "[**whatbitcoindid**](https://www.youtube.com/channel/UCzrWKkFIRS0kjZf7x24GdGg) **-** In this interview, I talk to Jamie Bartlett, host of the BBC’s podcast The Missing Cryptoqueen, an investigation into OneCoin and the disappearance of its founder Ruja Ignatova. We discuss scams, Ponzi’s, pyramids, cults and multi-level marketing.\n",
      "top_level_comment:Ancient_Touch, 3, Hi, I was wondering exactly what happens in 10 minutes of a block mining? How much time it takes to find correct nonce and things like that\n",
      "top_level_comment:sadBelly, 2, that new btc rap song is good :)  hopefully it can get lots of upvotes and get seen by the rest of reddit - if you agree please help & upvote the post\n",
      "top_level_comment:ebaley, 4, [No, banks will not necessarily reimburse you if you get hacked, a favourite defence of the fiat-heads.](https://www.theguardian.com/money/2019/nov/15/victims-bank-transfer-scams-risk-unprotected-compensation)\n",
      "top_level_comment:laninsterJr, 2, Good Morning Bitcoinland!\n",
      "top_level_comment:diasextra, 2, Is there any simple way to DCA automatically every month?\n",
      "top_level_comment:paullampard, 2, NFS\n",
      "Not fucking selling!\n",
      "\n",
      "Not selling fucking either.\n",
      "top_level_comment:RulerZod, 2, [Free fallin like Tom Petty](https://youtu.be/1lWJXDG2i0A)\n",
      "top_level_comment:xCNHx62, 2, cold bitcoin winter\n",
      "top_level_comment:EATYOFACE, 1, Pls moon\n",
      "top_level_comment:urza23, 1, When will 0.19 binaries be released?\n",
      "top_level_comment:ExpensiveDepartment, 1, I think bitcoin is testing the weak hand altcoins.  You know all the low liquidity large cap scam projects. At some point they will stop propping their projects and jump the ship\n",
      "top_level_comment:Daywalker47, 1, Please stop the bleeding! Bitcoin's really getting hammered lately. With more people using and the infrastructure growing every day, shouldn't the value be slowly and steadily climbing? \n",
      "\n",
      "I know I sound like a broken record, but these constant backslides since June/July make no sense to me...\n",
      "\n",
      "Who benefits from a lower and lower Bitcoin value... other than those who don't want to see it succeed?\n",
      "top_level_comment:NAPAgorist, 1, \n",
      "I think right now the institutional investors are dumping to push the price down and get the weak hands to dump while they accumulate. Hodl people.\n",
      "top_level_comment:None, 0, [deleted]\n",
      "top_level_comment:doobur, 0, Well guys, nothing in the news, price declining. Really bad sentiment in the daily thread. \n",
      "\n",
      "Just dumped a heavy one into btc, fuck it.\n",
      "\n",
      "I always hear everyone say you take the stairs up and the elevator down but I swear it's different with bitcoin. \n",
      "\n",
      "I feel like whales just wait until it's a good time to go heavy and wait for this period where everyone gets skiddish.\n",
      "\n",
      "EDIT: To add to this, everyone of my inexperienced friends keep telling me they're waiting for lower prices. Last I heard 6k was \"reasonable\". The last time I heard this, 2k was \"reasonable\" @ 3.7k. Decided to go heavy.\n",
      "\n",
      "My two bits\n",
      "top_level_comment:Onetruecoin, 0, If the Satoshi N was found. Would he be in legal trouble or questioned? What would it be for?\n",
      "top_level_comment:LemosineRidin, 0, Sigh\n",
      "top_level_comment:xCNHx62, -1, are we going down in the dirt this winter\n",
      "top_level_comment:Stephcoin, -1, Whenever we're smug about a sudden price increase, it crashes out of nowhere and leaves us all disappointed.\n",
      "\n",
      "Whenever we're looking at each other going \"this is okay right?\" nervously chuckling, that's when things get better. The calm before the storm. These two things happen over and over again.\n",
      "\n",
      "TL;DR Trust that icky feeling, it means good times are coming\n",
      "top_level_comment:Ceelic, -5, Let's dump this shit into the 6k range. Cheaper bitcoin is better.\n",
      "top_level_comment:niquedegraaff, -5, Nice fake pump.. Again. Seems like some try to initiate a rally, but retail is not stupid anymore.\n",
      "top_level_comment:wohmonga, -5, Hi guys,\n",
      "I'm planning on forex trading in bitcoins instead of hard currency, but I've noticed the price of bitcoins has been dropping (-4.51% over the last week). Is it still advisable to invest in bitcoin?\n"
     ]
    }
   ],
   "source": [
    "print(submission.title)\n",
    "for top_level_comment in submission.comments:\n",
    "    \n",
    "    print(f\"top_level_comment:{top_level_comment.author}, {top_level_comment.score}, {top_level_comment.body}\")\n"
   ]
  },
  {
   "cell_type": "code",
   "execution_count": null,
   "metadata": {},
   "outputs": [],
   "source": []
  },
  {
   "cell_type": "code",
   "execution_count": null,
   "metadata": {},
   "outputs": [],
   "source": []
  },
  {
   "cell_type": "code",
   "execution_count": 30,
   "metadata": {},
   "outputs": [
    {
     "name": "stdout",
     "output_type": "stream",
     "text": [
      "nicpir\n",
      "3258\n"
     ]
    }
   ],
   "source": [
    " # assume you have a Submission instance bound to variable `submission`\n",
    "redditor1 = submission.author\n",
    "print(redditor1.name)  # Output: name of the redditor\n",
    "\n",
    "# assume you have a Reddit instance bound to variable `reddit`\n",
    "redditor2 = reddit.redditor('bboe')\n",
    "print(redditor2.link_karma)  # Output: bboe's karma"
   ]
  },
  {
   "cell_type": "code",
   "execution_count": null,
   "metadata": {},
   "outputs": [],
   "source": []
  },
  {
   "cell_type": "code",
   "execution_count": null,
   "metadata": {},
   "outputs": [],
   "source": [
    "reddit.subreddit('test').submit('Test Submission', url='https://reddit.com')"
   ]
  },
  {
   "cell_type": "code",
   "execution_count": null,
   "metadata": {},
   "outputs": [],
   "source": []
  }
 ],
 "metadata": {
  "kernelspec": {
   "display_name": "Python 3",
   "language": "python",
   "name": "python3"
  },
  "language_info": {
   "codemirror_mode": {
    "name": "ipython",
    "version": 3
   },
   "file_extension": ".py",
   "mimetype": "text/x-python",
   "name": "python",
   "nbconvert_exporter": "python",
   "pygments_lexer": "ipython3",
   "version": "3.7.4"
  }
 },
 "nbformat": 4,
 "nbformat_minor": 4
}

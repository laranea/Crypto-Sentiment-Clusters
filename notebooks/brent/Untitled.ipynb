{
 "cells": [
  {
   "cell_type": "code",
   "execution_count": 432,
   "metadata": {},
   "outputs": [],
   "source": [
    "from __future__ import absolute_import, print_function\n",
    "import tweepy\n",
    "import json\n",
    "import os\n",
    "import pandas as pd\n",
    "from tweepy.streaming import StreamListener\n",
    "import pprint as pp\n",
    "\n",
    "import nltk\n",
    "from nltk.sentiment.vader import SentimentIntensityAnalyzer\n",
    "\n",
    "from nltk.tokenize import word_tokenize, sent_tokenize\n",
    "from nltk.corpus import stopwords\n",
    "from nltk.stem import WordNetLemmatizer, PorterStemmer\n",
    "from string import punctuation\n",
    "import re"
   ]
  },
  {
   "cell_type": "code",
   "execution_count": 433,
   "metadata": {},
   "outputs": [],
   "source": [
    "consumer_key = os.getenv(\"consumer_key\")\n",
    "consumer_secret = os.getenv(\"consumer_secret\")\n",
    "consumer_token = os.getenv(\"access_token\")\n",
    "access_token_secret = os.getenv(\"access_token_secret\")"
   ]
  },
  {
   "cell_type": "code",
   "execution_count": 434,
   "metadata": {},
   "outputs": [],
   "source": [
    "def authorize_twitter_api():\n",
    "    \n",
    "    auth = tweepy.OAuthHandler(consumer_key, consumer_secret)\n",
    "    auth.set_access_token(access_token, access_token_secret)\n",
    "    \n",
    "    return auth"
   ]
  },
  {
   "cell_type": "code",
   "execution_count": null,
   "metadata": {},
   "outputs": [],
   "source": []
  },
  {
   "cell_type": "code",
   "execution_count": 435,
   "metadata": {},
   "outputs": [],
   "source": [
    "api = tweepy.API(auth)"
   ]
  },
  {
   "cell_type": "code",
   "execution_count": 422,
   "metadata": {},
   "outputs": [],
   "source": [
    "search_results = api.search(q='boss',tweet_mode = 'extended',count=1,lang = 'en')"
   ]
  },
  {
   "cell_type": "code",
   "execution_count": null,
   "metadata": {},
   "outputs": [],
   "source": [
    "search_results"
   ]
  },
  {
   "cell_type": "code",
   "execution_count": 437,
   "metadata": {},
   "outputs": [],
   "source": [
    "tweets_list = []\n",
    "for tweet in tweepy.Cursor(api.search, q='bitcoin',tweet_mode = 'extended').items(5):\n",
    "    tweets_list.append(tweet)"
   ]
  },
  {
   "cell_type": "code",
   "execution_count": 438,
   "metadata": {},
   "outputs": [
    {
     "name": "stdout",
     "output_type": "stream",
     "text": [
      "RT @Rhythmtrader: The Federal Reserve had to loan banks the equivalent of 12,700,000 bitcoin last night to stabilize the financial system.\n",
      "Buy #ARK/BTC \n",
      " Market: Binance\n",
      " Buy Price: 0.00002512 \n",
      " Sell Price1: 0.00002525 +0.50%\n",
      " Sell Price2: 0.00002537 +1.00%\n",
      " Sell Price3: 0.00002550 +1.50%\n",
      " Sell Price4: 0.00002562 +2.00%\n",
      " Stop Loss: 0.00002437 -3.00%\n",
      " Ratio: 2:3 #Binance , #BTC , #Bitcoin , #CryptoCurrency , #Cr…\n",
      "BINANCE\n",
      "#BTC_ARK \n",
      "LONG\n",
      "SL 3% #Binance , #BTC , #Bitcoin , #CryptoCurrency , #CryptoTrading , #CryptoSignals\n",
      "@statusquont Send me an invoice when you are back there. Would be awesome to send some Bitcoin to you in Antarctica. I could imagine though that you would have limited internet.\n",
      "Blockchain is creating a landscape of opportunity by replacing market friction with transparency, opening the door to a thriving global market. Which countries and industries are the ones to watch in 2020?\n",
      "\n",
      "#globalmarket #bitcoin #btc #blockchainvancouver https://t.co/gBcGvz2ZpI\n"
     ]
    }
   ],
   "source": [
    "for i in range(len(tweets_list)):\n",
    "    print (tweets_list[i].full_text)"
   ]
  },
  {
   "cell_type": "code",
   "execution_count": null,
   "metadata": {},
   "outputs": [],
   "source": [
    "\n",
    "# with open('tweet', 'w', encoding='utf-8') as f:\n",
    "# json.dumps(tweet.text, indent=4)"
   ]
  },
  {
   "cell_type": "code",
   "execution_count": null,
   "metadata": {},
   "outputs": [],
   "source": [
    "# for friend in tweepy.Cursor(api.friends).items():\n",
    "#     # Process the friend here\n",
    "#     process_friend(friend)"
   ]
  },
  {
   "cell_type": "code",
   "execution_count": null,
   "metadata": {},
   "outputs": [],
   "source": [
    "pp = pprint.PrettyPrinter(depth=4)\n",
    "\n",
    "#vars >>> OBJECT TO A DICTIONARY \n",
    "keys = vars(tweets_list[0]).keys()\n",
    "print(keys)"
   ]
  },
  {
   "cell_type": "code",
   "execution_count": null,
   "metadata": {},
   "outputs": [],
   "source": [
    "tweets_list[1].user\n"
   ]
  },
  {
   "cell_type": "code",
   "execution_count": null,
   "metadata": {},
   "outputs": [],
   "source": []
  },
  {
   "cell_type": "code",
   "execution_count": null,
   "metadata": {},
   "outputs": [],
   "source": [
    "tweets_columns = []\n",
    "\n",
    "        \n",
    "for i in range(len(tweets_list)):\n",
    "        \n",
    "        filtered_columns={\n",
    "        'date':tweets_list[i].created_at,\n",
    "        'user_id':tweets_list[i].user.id_str,\n",
    "        'screen_name':tweets_list[i].user.screen_name,\n",
    "        'text':tweets_list[i].full_text,\n",
    "        'reply_to_screen_name':tweets_list[i].in_reply_to_screen_name,\n",
    "        'reply_to_id':tweets_list[i].in_reply_to_user_id_str,\n",
    "        'reply_to_status_id':tweets_list[i].in_reply_to_status_id\n",
    "        }\n",
    "        \n",
    "        ##Becausee the below values are not present in all tweets, we must put them each in a try statement or an error will be thrown.\n",
    "        try:\n",
    "            filtered_columns.update({'user_mentions_screen_name':tweets_list[i].entities['user_mentions'][0]['screen_name']}) \n",
    "        except:\n",
    "            filtered_columns.update({'user_mentions_screen_name':None})\n",
    "        try:\n",
    "            filtered_columns.update({'user_mentions_id':tweets_list[i].entities['user_mentions'][0]['id_str']})\n",
    "        except:\n",
    "            filtered_columns.update({'user_mentions_id':None})\n",
    "        try:\n",
    "            filtered_columns.update({'rt_status_screen_name':tweets_list[i].retweeted_status.user.screen_name}) \n",
    "        except:\n",
    "            filtered_columns.update({'rt_status_screen_name':None})\n",
    "        try:\n",
    "            filtered_columns.update({'rt_status_id':tweets_list[i].retweeted_status.user.id_str})\n",
    "        except:\n",
    "            filtered_columns.update({'rt_status_id':None})\n",
    "        try:\n",
    "            filtered_columns.update({'language':tweets_list[i].lang}) \n",
    "        except:\n",
    "            filtered_columns.update({'language':None}) \n",
    "        try:\n",
    "            filtered_columns.update({'location':tweets_list[i].geo}) \n",
    "        except:\n",
    "            filtered_columns.update({'location':None})\n",
    "            \n",
    "        try:\n",
    "            filtered_columns.update({'verified': tweets_list[i].verified})\n",
    "        except:\n",
    "            filtered_columns.update({'verified':None})\n",
    "        \n",
    "        tweets_columns.append(filtered_columns)       \n",
    "            \n",
    "            "
   ]
  },
  {
   "cell_type": "code",
   "execution_count": null,
   "metadata": {},
   "outputs": [],
   "source": [
    "tweets = pd.DataFrame(tweets_columns)"
   ]
  },
  {
   "cell_type": "code",
   "execution_count": null,
   "metadata": {},
   "outputs": [],
   "source": [
    "tweets.head()"
   ]
  },
  {
   "cell_type": "code",
   "execution_count": null,
   "metadata": {},
   "outputs": [],
   "source": [
    "tweets.set_index('date',inplace=True)\n"
   ]
  },
  {
   "cell_type": "code",
   "execution_count": null,
   "metadata": {},
   "outputs": [],
   "source": [
    "tweets.info()\n"
   ]
  },
  {
   "cell_type": "code",
   "execution_count": null,
   "metadata": {},
   "outputs": [],
   "source": [
    "tweets.info()"
   ]
  },
  {
   "cell_type": "code",
   "execution_count": null,
   "metadata": {},
   "outputs": [],
   "source": []
  },
  {
   "cell_type": "code",
   "execution_count": null,
   "metadata": {},
   "outputs": [],
   "source": []
  },
  {
   "cell_type": "code",
   "execution_count": null,
   "metadata": {},
   "outputs": [],
   "source": []
  },
  {
   "cell_type": "code",
   "execution_count": null,
   "metadata": {},
   "outputs": [],
   "source": []
  },
  {
   "cell_type": "code",
   "execution_count": null,
   "metadata": {},
   "outputs": [],
   "source": []
  },
  {
   "cell_type": "code",
   "execution_count": null,
   "metadata": {},
   "outputs": [],
   "source": []
  },
  {
   "cell_type": "code",
   "execution_count": null,
   "metadata": {},
   "outputs": [],
   "source": []
  },
  {
   "cell_type": "code",
   "execution_count": null,
   "metadata": {},
   "outputs": [],
   "source": []
  },
  {
   "cell_type": "code",
   "execution_count": null,
   "metadata": {},
   "outputs": [],
   "source": []
  },
  {
   "cell_type": "code",
   "execution_count": null,
   "metadata": {},
   "outputs": [],
   "source": []
  },
  {
   "cell_type": "code",
   "execution_count": null,
   "metadata": {},
   "outputs": [],
   "source": []
  },
  {
   "cell_type": "code",
   "execution_count": null,
   "metadata": {},
   "outputs": [],
   "source": []
  },
  {
   "cell_type": "code",
   "execution_count": null,
   "metadata": {},
   "outputs": [],
   "source": []
  },
  {
   "cell_type": "code",
   "execution_count": null,
   "metadata": {},
   "outputs": [],
   "source": []
  },
  {
   "cell_type": "code",
   "execution_count": null,
   "metadata": {},
   "outputs": [],
   "source": []
  },
  {
   "cell_type": "code",
   "execution_count": null,
   "metadata": {},
   "outputs": [],
   "source": []
  },
  {
   "cell_type": "code",
   "execution_count": null,
   "metadata": {},
   "outputs": [],
   "source": []
  },
  {
   "cell_type": "code",
   "execution_count": null,
   "metadata": {},
   "outputs": [],
   "source": []
  },
  {
   "cell_type": "code",
   "execution_count": null,
   "metadata": {},
   "outputs": [],
   "source": []
  },
  {
   "cell_type": "code",
   "execution_count": null,
   "metadata": {},
   "outputs": [],
   "source": []
  },
  {
   "cell_type": "code",
   "execution_count": null,
   "metadata": {},
   "outputs": [],
   "source": []
  },
  {
   "cell_type": "code",
   "execution_count": null,
   "metadata": {},
   "outputs": [],
   "source": []
  },
  {
   "cell_type": "code",
   "execution_count": null,
   "metadata": {},
   "outputs": [],
   "source": []
  },
  {
   "cell_type": "code",
   "execution_count": null,
   "metadata": {},
   "outputs": [],
   "source": []
  },
  {
   "cell_type": "code",
   "execution_count": null,
   "metadata": {},
   "outputs": [],
   "source": []
  },
  {
   "cell_type": "code",
   "execution_count": null,
   "metadata": {},
   "outputs": [],
   "source": []
  },
  {
   "cell_type": "code",
   "execution_count": null,
   "metadata": {},
   "outputs": [],
   "source": []
  },
  {
   "cell_type": "code",
   "execution_count": null,
   "metadata": {},
   "outputs": [],
   "source": []
  },
  {
   "cell_type": "code",
   "execution_count": null,
   "metadata": {},
   "outputs": [],
   "source": []
  },
  {
   "cell_type": "code",
   "execution_count": null,
   "metadata": {},
   "outputs": [],
   "source": []
  },
  {
   "cell_type": "code",
   "execution_count": null,
   "metadata": {},
   "outputs": [],
   "source": []
  },
  {
   "cell_type": "code",
   "execution_count": null,
   "metadata": {},
   "outputs": [],
   "source": []
  },
  {
   "cell_type": "code",
   "execution_count": null,
   "metadata": {},
   "outputs": [],
   "source": []
  },
  {
   "cell_type": "code",
   "execution_count": null,
   "metadata": {},
   "outputs": [],
   "source": []
  },
  {
   "cell_type": "code",
   "execution_count": null,
   "metadata": {},
   "outputs": [],
   "source": []
  },
  {
   "cell_type": "code",
   "execution_count": null,
   "metadata": {},
   "outputs": [],
   "source": []
  },
  {
   "cell_type": "code",
   "execution_count": null,
   "metadata": {},
   "outputs": [],
   "source": []
  },
  {
   "cell_type": "code",
   "execution_count": null,
   "metadata": {},
   "outputs": [],
   "source": []
  },
  {
   "cell_type": "code",
   "execution_count": null,
   "metadata": {},
   "outputs": [],
   "source": []
  },
  {
   "cell_type": "code",
   "execution_count": null,
   "metadata": {},
   "outputs": [],
   "source": []
  },
  {
   "cell_type": "code",
   "execution_count": null,
   "metadata": {},
   "outputs": [],
   "source": []
  },
  {
   "cell_type": "code",
   "execution_count": null,
   "metadata": {},
   "outputs": [],
   "source": []
  },
  {
   "cell_type": "markdown",
   "metadata": {},
   "source": [
    "## Pickle Data## "
   ]
  },
  {
   "cell_type": "code",
   "execution_count": null,
   "metadata": {},
   "outputs": [],
   "source": []
  },
  {
   "cell_type": "code",
   "execution_count": null,
   "metadata": {},
   "outputs": [],
   "source": []
  },
  {
   "cell_type": "code",
   "execution_count": null,
   "metadata": {},
   "outputs": [],
   "source": []
  },
  {
   "cell_type": "code",
   "execution_count": null,
   "metadata": {},
   "outputs": [],
   "source": []
  },
  {
   "cell_type": "code",
   "execution_count": null,
   "metadata": {},
   "outputs": [],
   "source": []
  },
  {
   "cell_type": "code",
   "execution_count": null,
   "metadata": {},
   "outputs": [],
   "source": []
  },
  {
   "cell_type": "code",
   "execution_count": null,
   "metadata": {},
   "outputs": [],
   "source": []
  },
  {
   "cell_type": "code",
   "execution_count": null,
   "metadata": {},
   "outputs": [],
   "source": []
  },
  {
   "cell_type": "code",
   "execution_count": null,
   "metadata": {},
   "outputs": [],
   "source": []
  },
  {
   "cell_type": "code",
   "execution_count": null,
   "metadata": {},
   "outputs": [],
   "source": []
  },
  {
   "cell_type": "code",
   "execution_count": null,
   "metadata": {},
   "outputs": [],
   "source": [
    "# tweets.to_pickle('../output/tweets')\n",
    "\n",
    "\n"
   ]
  },
  {
   "cell_type": "code",
   "execution_count": null,
   "metadata": {},
   "outputs": [],
   "source": []
  },
  {
   "cell_type": "code",
   "execution_count": null,
   "metadata": {},
   "outputs": [],
   "source": []
  },
  {
   "cell_type": "code",
   "execution_count": null,
   "metadata": {},
   "outputs": [],
   "source": []
  },
  {
   "cell_type": "code",
   "execution_count": null,
   "metadata": {},
   "outputs": [],
   "source": []
  },
  {
   "cell_type": "code",
   "execution_count": null,
   "metadata": {},
   "outputs": [],
   "source": []
  },
  {
   "cell_type": "code",
   "execution_count": null,
   "metadata": {},
   "outputs": [],
   "source": []
  },
  {
   "cell_type": "code",
   "execution_count": null,
   "metadata": {},
   "outputs": [],
   "source": []
  },
  {
   "cell_type": "code",
   "execution_count": null,
   "metadata": {},
   "outputs": [],
   "source": []
  },
  {
   "cell_type": "code",
   "execution_count": null,
   "metadata": {},
   "outputs": [],
   "source": []
  },
  {
   "cell_type": "code",
   "execution_count": null,
   "metadata": {},
   "outputs": [],
   "source": []
  },
  {
   "cell_type": "code",
   "execution_count": null,
   "metadata": {},
   "outputs": [],
   "source": []
  },
  {
   "cell_type": "code",
   "execution_count": null,
   "metadata": {},
   "outputs": [],
   "source": []
  },
  {
   "cell_type": "code",
   "execution_count": null,
   "metadata": {},
   "outputs": [],
   "source": []
  },
  {
   "cell_type": "code",
   "execution_count": null,
   "metadata": {},
   "outputs": [],
   "source": []
  },
  {
   "cell_type": "code",
   "execution_count": null,
   "metadata": {},
   "outputs": [],
   "source": []
  },
  {
   "cell_type": "code",
   "execution_count": null,
   "metadata": {},
   "outputs": [],
   "source": []
  },
  {
   "cell_type": "code",
   "execution_count": null,
   "metadata": {},
   "outputs": [],
   "source": []
  },
  {
   "cell_type": "code",
   "execution_count": null,
   "metadata": {},
   "outputs": [],
   "source": []
  },
  {
   "cell_type": "code",
   "execution_count": null,
   "metadata": {},
   "outputs": [],
   "source": []
  },
  {
   "cell_type": "code",
   "execution_count": null,
   "metadata": {},
   "outputs": [],
   "source": []
  },
  {
   "cell_type": "code",
   "execution_count": null,
   "metadata": {},
   "outputs": [],
   "source": []
  },
  {
   "cell_type": "code",
   "execution_count": null,
   "metadata": {},
   "outputs": [],
   "source": []
  },
  {
   "cell_type": "code",
   "execution_count": null,
   "metadata": {},
   "outputs": [],
   "source": []
  },
  {
   "cell_type": "code",
   "execution_count": null,
   "metadata": {},
   "outputs": [],
   "source": []
  },
  {
   "cell_type": "code",
   "execution_count": null,
   "metadata": {},
   "outputs": [],
   "source": []
  },
  {
   "cell_type": "code",
   "execution_count": null,
   "metadata": {},
   "outputs": [],
   "source": []
  },
  {
   "cell_type": "code",
   "execution_count": null,
   "metadata": {},
   "outputs": [],
   "source": []
  },
  {
   "cell_type": "code",
   "execution_count": null,
   "metadata": {},
   "outputs": [],
   "source": []
  },
  {
   "cell_type": "code",
   "execution_count": null,
   "metadata": {},
   "outputs": [],
   "source": []
  },
  {
   "cell_type": "code",
   "execution_count": null,
   "metadata": {},
   "outputs": [],
   "source": []
  },
  {
   "cell_type": "code",
   "execution_count": null,
   "metadata": {},
   "outputs": [],
   "source": []
  },
  {
   "cell_type": "code",
   "execution_count": null,
   "metadata": {},
   "outputs": [],
   "source": []
  },
  {
   "cell_type": "code",
   "execution_count": null,
   "metadata": {},
   "outputs": [],
   "source": []
  },
  {
   "cell_type": "code",
   "execution_count": null,
   "metadata": {},
   "outputs": [],
   "source": []
  },
  {
   "cell_type": "code",
   "execution_count": null,
   "metadata": {},
   "outputs": [],
   "source": []
  },
  {
   "cell_type": "code",
   "execution_count": null,
   "metadata": {},
   "outputs": [],
   "source": []
  },
  {
   "cell_type": "code",
   "execution_count": null,
   "metadata": {},
   "outputs": [],
   "source": [
    "def create_tweets_table(term_to_search):\n",
    "    \"\"\"\n",
    "    This function open a connection with an already created database and creates a new table to\n",
    "    store tweets related to a subject specified by the user\n",
    "    \"\"\"\n",
    "    \n",
    "    #Connect to Twitter Database created in Postgres\n",
    "    conn_twitter = psycopg2.connect(dbname=dbnametwitter, user=usertwitter, password=passwordtwitter, host=hosttwitter, port=porttwitter)\n",
    "\n",
    "    #Create a cursor to perform database operations\n",
    "    cursor_twitter = conn_twitter.cursor()\n",
    "\n",
    "    #with the cursor now, create two tables, users twitter and the corresponding table according to the selected topic\n",
    "    cursor_twitter.execute(\"CREATE TABLE IF NOT EXISTS twitter_users (user_id VARCHAR PRIMARY KEY, user_name VARCHAR);\")\n",
    "    \n",
    "    query_create = \"CREATE TABLE IF NOT EXISTS %s (id SERIAL, created_at timestamp, tweet text NOT NULL, user_id VARCHAR, user_name VARCHAR, retweetstatus_user int, retweetstatus_name VARCHAR, PRIMARY KEY(id), FOREIGN KEY(user_id) REFERENCES twitter_users(user_id));\" %(\"tweets_predict_\"+term_to_search)\n",
    "    cursor_twitter.execute(query_create)\n",
    "    \n",
    "    #Commit changes\n",
    "    conn_twitter.commit()\n",
    "    \n",
    "    #Close cursor and the connection\n",
    "    cursor_twitter.close()\n",
    "    conn_twitter.close()\n",
    "    return"
   ]
  },
  {
   "cell_type": "code",
   "execution_count": null,
   "metadata": {},
   "outputs": [],
   "source": []
  },
  {
   "cell_type": "code",
   "execution_count": null,
   "metadata": {},
   "outputs": [],
   "source": [
    "def store_tweets_in_table(term_to_search, created_at, tweet, user_id, user_name, retweetstatus_user, retweetstatus_name):\n",
    "    \"\"\"\n",
    "    This function open a connection with an already created database and inserts into corresponding table \n",
    "    tweets related to the selected topic\n",
    "    \"\"\"\n",
    "    \n",
    "    #Connect to Twitter Database created in Postgres\n",
    "    conn_twitter = psycopg2.connect(dbname=dbnametwitter, user=usertwitter, password=passwordtwitter, host=hosttwitter, port=porttwitter)\n",
    "\n",
    "    #Create a cursor to perform database operations\n",
    "    cursor_twitter = conn_twitter.cursor()\n",
    "\n",
    "    #with the cursor now, insert tweet into table\n",
    "    cursor_twitter.execute(\"INSERT INTO twitter_users (user_id, user_name) VALUES (%s, %s) ON CONFLICT(user_id) DO NOTHING;\", (user_id, user_name))\n",
    "    \n",
    "    cursor_twitter.execute(\"INSERT INTO %s (created_at, tweet, user_id, user_name, retweetstatus_user, retweetstatus_name) VALUES (%%s, %%s, %%s, %%s, %%s, %%s);\" %('tweets_predict_'+term_to_search), \n",
    "                           (created_at, tweet, user_id, user_name, retweetstatus_user, retweetstatus_name))\n",
    "    \n",
    "    #Commit changes\n",
    "    conn_twitter.commit()\n",
    "    \n",
    "    #Close cursor and the connection\n",
    "    cursor_twitter.close()\n",
    "    conn_twitter.close()\n",
    "    return"
   ]
  },
  {
   "cell_type": "code",
   "execution_count": null,
   "metadata": {},
   "outputs": [],
   "source": []
  },
  {
   "cell_type": "code",
   "execution_count": null,
   "metadata": {},
   "outputs": [],
   "source": []
  },
  {
   "cell_type": "code",
   "execution_count": null,
   "metadata": {},
   "outputs": [],
   "source": [
    "class MyStreamListener(tweepy.StreamListener):\n",
    "    \n",
    "    '''\n",
    "    def on_status(self, status):\n",
    "        print(status.text)\n",
    "    '''\n",
    "        \n",
    "    def on_data(self, raw_data):\n",
    "\n",
    "        try:\n",
    "            global term_to_search\n",
    "            \n",
    "            data = json.loads(raw_data)            \n",
    "            \n",
    "            #Obtain all the variables to store in each column\n",
    "            user_id = data['user']['id']\n",
    "            user_name = data['user']['name']\n",
    "            created_at = data['created_at']\n",
    "            tweet = data['text']\n",
    "            if data['retweeted_status']:\n",
    "                retweetstatus_user = data['retweeted_status']['user']['id']\n",
    "                retweetstatus_name = data['retweeted_status']['user']['name']\n",
    "            else:\n",
    "                retweetstatus_user = np.nan\n",
    "                retweetstatus_name = \"\"\n",
    "            \n",
    "            #Store them in the corresponding table in the database\n",
    "            store_tweets_in_table(term_to_search, created_at, tweet, user_id, user_name, retweetstatus_user, retweetstatus_name)        \n",
    "            \n",
    "        except Exception as e:\n",
    "            print(e)\n",
    "    \n",
    "    def on_error(self, status_code):\n",
    "        if status_code == 420:\n",
    "            #returning False in on_error disconnects the stream\n",
    "            return False"
   ]
  },
  {
   "cell_type": "code",
   "execution_count": null,
   "metadata": {},
   "outputs": [],
   "source": []
  },
  {
   "cell_type": "code",
   "execution_count": null,
   "metadata": {},
   "outputs": [],
   "source": [
    "\n",
    "# For realtime streaming\n",
    "if __name__ == \"__main__\": \n",
    "    #Creates the table for storing the tweets\n",
    "    term_to_search = \"avengers\"\n",
    "    create_tweets_table(term_to_search)\n",
    "    \n",
    "    #Connect to the streaming twitter API\n",
    "    api = tweepy.API(wait_on_rate_limit_notify=True)\n",
    "    \n",
    "    #Stream the tweets\n",
    "    streamer = tweepy.Stream(auth=autorize_twitter_api(), listener=MyStreamListener(api=api))\n",
    "    streamer.filter(languages=[\"en\"], track=[term_to_search])"
   ]
  },
  {
   "cell_type": "code",
   "execution_count": null,
   "metadata": {},
   "outputs": [],
   "source": []
  }
 ],
 "metadata": {
  "kernelspec": {
   "display_name": "Python 3",
   "language": "python",
   "name": "python3"
  },
  "language_info": {
   "codemirror_mode": {
    "name": "ipython",
    "version": 3
   },
   "file_extension": ".py",
   "mimetype": "text/x-python",
   "name": "python",
   "nbconvert_exporter": "python",
   "pygments_lexer": "ipython3",
   "version": "3.7.4"
  }
 },
 "nbformat": 4,
 "nbformat_minor": 4
}

{
 "cells": [
  {
   "cell_type": "code",
   "execution_count": 17,
   "metadata": {},
   "outputs": [],
   "source": [
    "from __future__ import absolute_import, print_function\n",
    "import tweepy\n",
    "import os\n",
    "import pprint \n",
    "import json"
   ]
  },
  {
   "cell_type": "code",
   "execution_count": 18,
   "metadata": {},
   "outputs": [],
   "source": [
    "consumer_key = os.getenv(\"TWITTER_API_KEY\")\n",
    "consumer_secret = os.getenv(\"TWITTER_SECRET_KEY\")\n",
    "access_token = os.getenv(\"TWITTER_ACCESS_TOKEN\")\n",
    "access_token_secret = os.getenv(\"TWITTER_ACCESS_TOKEN_SECRET\")"
   ]
  },
  {
   "cell_type": "code",
   "execution_count": 6,
   "metadata": {},
   "outputs": [],
   "source": [
    "def autorize_twitter_api():\n",
    "    \"\"\"\n",
    "    This function gets the consumer key, consumer secret key, access token \n",
    "    and access token secret given by the app created in your Twitter account\n",
    "    and authenticate them with Tweepy.\n",
    "    \"\"\"\n",
    "    #Get access and costumer key and tokens\n",
    "    auth = tweepy.OAuthHandler(consumer_key, consumer_secret)\n",
    "    auth.set_access_token(access_token, access_token_secret)\n",
    "    \n",
    "    return auth"
   ]
  },
  {
   "cell_type": "code",
   "execution_count": 7,
   "metadata": {},
   "outputs": [],
   "source": [
    "auth = tweepy.AppAuthHandler(consumer_key, consumer_secret)"
   ]
  },
  {
   "cell_type": "code",
   "execution_count": 8,
   "metadata": {},
   "outputs": [],
   "source": [
    "api = tweepy.API(auth)"
   ]
  },
  {
   "cell_type": "code",
   "execution_count": 34,
   "metadata": {},
   "outputs": [
    {
     "name": "stdout",
     "output_type": "stream",
     "text": [
      "{'hashtags': [], 'symbols': [], 'user_mentions': [], 'urls': []}\n",
      "{'hashtags': [], 'symbols': [], 'user_mentions': [{'screen_name': 'APompliano', 'name': 'Pomp 🌪', 'id': 339061487, 'id_str': '339061487', 'indices': [3, 14]}], 'urls': []}\n",
      "{'hashtags': [{'text': 'Bitcoin', 'indices': [70, 78]}], 'symbols': [], 'user_mentions': [{'screen_name': 'BaggyHodlson', 'name': 'Baggy Hodlson', 'id': 950799360211681281, 'id_str': '950799360211681281', 'indices': [0, 13]}, {'screen_name': 'charliekirk11', 'name': 'Charlie Kirk', 'id': 292929271, 'id_str': '292929271', 'indices': [14, 28]}, {'screen_name': 'Cernovich', 'name': 'Mike Cernovich', 'id': 358545917, 'id_str': '358545917', 'indices': [29, 39]}], 'urls': [{'url': 'https://t.co/kUDwExp0Qv', 'expanded_url': 'https://twitter.com/i/web/status/1194066327280865280', 'display_url': 'twitter.com/i/web/status/1…', 'indices': [116, 139]}]}\n"
     ]
    }
   ],
   "source": [
    "for tweet in tweepy.Cursor(api.search, q='bitcoin').items(3):\n",
    "    print(tweet.entities)"
   ]
  },
  {
   "cell_type": "code",
   "execution_count": 15,
   "metadata": {},
   "outputs": [],
   "source": [
    "pp = pprint.PrettyPrinter(indent=4)"
   ]
  },
  {
   "cell_type": "code",
   "execution_count": 28,
   "metadata": {},
   "outputs": [
    {
     "name": "stdout",
     "output_type": "stream",
     "text": [
      "Status(_api=<tweepy.api.API object at 0x000001E118B6F4E0>, _json={'created_at': 'Tue Nov 12 01:02:15 +0000 2019', 'id': 1194057785031495680, 'id_str': '1194057785031495680', 'text': 'Analyst Claims $8,700 Marks Good Long Opportunity for Bitcoin Despite Overnight Plunge CRYPTO CRYPTO NEWS - https://t.co/W088aiPtCi', 'truncated': False, 'entities': {'hashtags': [], 'symbols': [], 'user_mentions': [], 'urls': [{'url': 'https://t.co/W088aiPtCi', 'expanded_url': 'https://cryptocryptonews.com/analyst-claims-8700-marks-good-long-opportunity-for-bitcoin-despite-overnight-plunge/', 'display_url': 'cryptocryptonews.com/analyst-claims…', 'indices': [108, 131]}]}, 'metadata': {'iso_language_code': 'en', 'result_type': 'recent'}, 'source': '<a href=\"https://cryptocryptonews.com\" rel=\"nofollow\">Crypto Crypto News </a>', 'in_reply_to_status_id': None, 'in_reply_to_status_id_str': None, 'in_reply_to_user_id': None, 'in_reply_to_user_id_str': None, 'in_reply_to_screen_name': None, 'user': {'id': 1129381702407741441, 'id_str': '1129381702407741441', 'name': 'Crypto Crypto News', 'screen_name': 'CryptoCryptoNe3', 'location': 'Planet Crypto ', 'description': 'https://t.co/57fbG3FEqT\\n\\nCrypto and Crowdfunding', 'url': 'https://t.co/DtQ6RarJg5', 'entities': {'url': {'urls': [{'url': 'https://t.co/DtQ6RarJg5', 'expanded_url': 'https://cryptocryptonews.com', 'display_url': 'cryptocryptonews.com', 'indices': [0, 23]}]}, 'description': {'urls': [{'url': 'https://t.co/57fbG3FEqT', 'expanded_url': 'http://bit.ly/2XbTmsJ', 'display_url': 'bit.ly/2XbTmsJ', 'indices': [0, 23]}]}}, 'protected': False, 'followers_count': 299, 'friends_count': 183, 'listed_count': 3, 'created_at': 'Fri May 17 13:42:35 +0000 2019', 'favourites_count': 131, 'utc_offset': None, 'time_zone': None, 'geo_enabled': False, 'verified': False, 'statuses_count': 38672, 'lang': None, 'contributors_enabled': False, 'is_translator': False, 'is_translation_enabled': False, 'profile_background_color': 'F5F8FA', 'profile_background_image_url': None, 'profile_background_image_url_https': None, 'profile_background_tile': False, 'profile_image_url': 'http://pbs.twimg.com/profile_images/1167819859557834754/1A_XdbI4_normal.jpg', 'profile_image_url_https': 'https://pbs.twimg.com/profile_images/1167819859557834754/1A_XdbI4_normal.jpg', 'profile_banner_url': 'https://pbs.twimg.com/profile_banners/1129381702407741441/1558101455', 'profile_link_color': '1DA1F2', 'profile_sidebar_border_color': 'C0DEED', 'profile_sidebar_fill_color': 'DDEEF6', 'profile_text_color': '333333', 'profile_use_background_image': True, 'has_extended_profile': False, 'default_profile': True, 'default_profile_image': False, 'following': None, 'follow_request_sent': None, 'notifications': None, 'translator_type': 'none'}, 'geo': None, 'coordinates': None, 'place': None, 'contributors': None, 'is_quote_status': False, 'retweet_count': 0, 'favorite_count': 0, 'favorited': False, 'retweeted': False, 'possibly_sensitive': False, 'lang': 'en'}, created_at=datetime.datetime(2019, 11, 12, 1, 2, 15), id=1194057785031495680, id_str='1194057785031495680', text='Analyst Claims $8,700 Marks Good Long Opportunity for Bitcoin Despite Overnight Plunge CRYPTO CRYPTO NEWS - https://t.co/W088aiPtCi', truncated=False, entities={'hashtags': [], 'symbols': [], 'user_mentions': [], 'urls': [{'url': 'https://t.co/W088aiPtCi', 'expanded_url': 'https://cryptocryptonews.com/analyst-claims-8700-marks-good-long-opportunity-for-bitcoin-despite-overnight-plunge/', 'display_url': 'cryptocryptonews.com/analyst-claims…', 'indices': [108, 131]}]}, metadata={'iso_language_code': 'en', 'result_type': 'recent'}, source='Crypto Crypto News ', source_url='https://cryptocryptonews.com', in_reply_to_status_id=None, in_reply_to_status_id_str=None, in_reply_to_user_id=None, in_reply_to_user_id_str=None, in_reply_to_screen_name=None, author=User(_api=<tweepy.api.API object at 0x000001E118B6F4E0>, _json={'id': 1129381702407741441, 'id_str': '1129381702407741441', 'name': 'Crypto Crypto News', 'screen_name': 'CryptoCryptoNe3', 'location': 'Planet Crypto ', 'description': 'https://t.co/57fbG3FEqT\\n\\nCrypto and Crowdfunding', 'url': 'https://t.co/DtQ6RarJg5', 'entities': {'url': {'urls': [{'url': 'https://t.co/DtQ6RarJg5', 'expanded_url': 'https://cryptocryptonews.com', 'display_url': 'cryptocryptonews.com', 'indices': [0, 23]}]}, 'description': {'urls': [{'url': 'https://t.co/57fbG3FEqT', 'expanded_url': 'http://bit.ly/2XbTmsJ', 'display_url': 'bit.ly/2XbTmsJ', 'indices': [0, 23]}]}}, 'protected': False, 'followers_count': 299, 'friends_count': 183, 'listed_count': 3, 'created_at': 'Fri May 17 13:42:35 +0000 2019', 'favourites_count': 131, 'utc_offset': None, 'time_zone': None, 'geo_enabled': False, 'verified': False, 'statuses_count': 38672, 'lang': None, 'contributors_enabled': False, 'is_translator': False, 'is_translation_enabled': False, 'profile_background_color': 'F5F8FA', 'profile_background_image_url': None, 'profile_background_image_url_https': None, 'profile_background_tile': False, 'profile_image_url': 'http://pbs.twimg.com/profile_images/1167819859557834754/1A_XdbI4_normal.jpg', 'profile_image_url_https': 'https://pbs.twimg.com/profile_images/1167819859557834754/1A_XdbI4_normal.jpg', 'profile_banner_url': 'https://pbs.twimg.com/profile_banners/1129381702407741441/1558101455', 'profile_link_color': '1DA1F2', 'profile_sidebar_border_color': 'C0DEED', 'profile_sidebar_fill_color': 'DDEEF6', 'profile_text_color': '333333', 'profile_use_background_image': True, 'has_extended_profile': False, 'default_profile': True, 'default_profile_image': False, 'following': None, 'follow_request_sent': None, 'notifications': None, 'translator_type': 'none'}, id=1129381702407741441, id_str='1129381702407741441', name='Crypto Crypto News', screen_name='CryptoCryptoNe3', location='Planet Crypto ', description='https://t.co/57fbG3FEqT\\n\\nCrypto and Crowdfunding', url='https://t.co/DtQ6RarJg5', entities={'url': {'urls': [{'url': 'https://t.co/DtQ6RarJg5', 'expanded_url': 'https://cryptocryptonews.com', 'display_url': 'cryptocryptonews.com', 'indices': [0, 23]}]}, 'description': {'urls': [{'url': 'https://t.co/57fbG3FEqT', 'expanded_url': 'http://bit.ly/2XbTmsJ', 'display_url': 'bit.ly/2XbTmsJ', 'indices': [0, 23]}]}}, protected=False, followers_count=299, friends_count=183, listed_count=3, created_at=datetime.datetime(2019, 5, 17, 13, 42, 35), favourites_count=131, utc_offset=None, time_zone=None, geo_enabled=False, verified=False, statuses_count=38672, lang=None, contributors_enabled=False, is_translator=False, is_translation_enabled=False, profile_background_color='F5F8FA', profile_background_image_url=None, profile_background_image_url_https=None, profile_background_tile=False, profile_image_url='http://pbs.twimg.com/profile_images/1167819859557834754/1A_XdbI4_normal.jpg', profile_image_url_https='https://pbs.twimg.com/profile_images/1167819859557834754/1A_XdbI4_normal.jpg', profile_banner_url='https://pbs.twimg.com/profile_banners/1129381702407741441/1558101455', profile_link_color='1DA1F2', profile_sidebar_border_color='C0DEED', profile_sidebar_fill_color='DDEEF6', profile_text_color='333333', profile_use_background_image=True, has_extended_profile=False, default_profile=True, default_profile_image=False, following=False, follow_request_sent=None, notifications=None, translator_type='none'), user=User(_api=<tweepy.api.API object at 0x000001E118B6F4E0>, _json={'id': 1129381702407741441, 'id_str': '1129381702407741441', 'name': 'Crypto Crypto News', 'screen_name': 'CryptoCryptoNe3', 'location': 'Planet Crypto ', 'description': 'https://t.co/57fbG3FEqT\\n\\nCrypto and Crowdfunding', 'url': 'https://t.co/DtQ6RarJg5', 'entities': {'url': {'urls': [{'url': 'https://t.co/DtQ6RarJg5', 'expanded_url': 'https://cryptocryptonews.com', 'display_url': 'cryptocryptonews.com', 'indices': [0, 23]}]}, 'description': {'urls': [{'url': 'https://t.co/57fbG3FEqT', 'expanded_url': 'http://bit.ly/2XbTmsJ', 'display_url': 'bit.ly/2XbTmsJ', 'indices': [0, 23]}]}}, 'protected': False, 'followers_count': 299, 'friends_count': 183, 'listed_count': 3, 'created_at': 'Fri May 17 13:42:35 +0000 2019', 'favourites_count': 131, 'utc_offset': None, 'time_zone': None, 'geo_enabled': False, 'verified': False, 'statuses_count': 38672, 'lang': None, 'contributors_enabled': False, 'is_translator': False, 'is_translation_enabled': False, 'profile_background_color': 'F5F8FA', 'profile_background_image_url': None, 'profile_background_image_url_https': None, 'profile_background_tile': False, 'profile_image_url': 'http://pbs.twimg.com/profile_images/1167819859557834754/1A_XdbI4_normal.jpg', 'profile_image_url_https': 'https://pbs.twimg.com/profile_images/1167819859557834754/1A_XdbI4_normal.jpg', 'profile_banner_url': 'https://pbs.twimg.com/profile_banners/1129381702407741441/1558101455', 'profile_link_color': '1DA1F2', 'profile_sidebar_border_color': 'C0DEED', 'profile_sidebar_fill_color': 'DDEEF6', 'profile_text_color': '333333', 'profile_use_background_image': True, 'has_extended_profile': False, 'default_profile': True, 'default_profile_image': False, 'following': None, 'follow_request_sent': None, 'notifications': None, 'translator_type': 'none'}, id=1129381702407741441, id_str='1129381702407741441', name='Crypto Crypto News', screen_name='CryptoCryptoNe3', location='Planet Crypto ', description='https://t.co/57fbG3FEqT\\n\\nCrypto and Crowdfunding', url='https://t.co/DtQ6RarJg5', entities={'url': {'urls': [{'url': 'https://t.co/DtQ6RarJg5', 'expanded_url': 'https://cryptocryptonews.com', 'display_url': 'cryptocryptonews.com', 'indices': [0, 23]}]}, 'description': {'urls': [{'url': 'https://t.co/57fbG3FEqT', 'expanded_url': 'http://bit.ly/2XbTmsJ', 'display_url': 'bit.ly/2XbTmsJ', 'indices': [0, 23]}]}}, protected=False, followers_count=299, friends_count=183, listed_count=3, created_at=datetime.datetime(2019, 5, 17, 13, 42, 35), favourites_count=131, utc_offset=None, time_zone=None, geo_enabled=False, verified=False, statuses_count=38672, lang=None, contributors_enabled=False, is_translator=False, is_translation_enabled=False, profile_background_color='F5F8FA', profile_background_image_url=None, profile_background_image_url_https=None, profile_background_tile=False, profile_image_url='http://pbs.twimg.com/profile_images/1167819859557834754/1A_XdbI4_normal.jpg', profile_image_url_https='https://pbs.twimg.com/profile_images/1167819859557834754/1A_XdbI4_normal.jpg', profile_banner_url='https://pbs.twimg.com/profile_banners/1129381702407741441/1558101455', profile_link_color='1DA1F2', profile_sidebar_border_color='C0DEED', profile_sidebar_fill_color='DDEEF6', profile_text_color='333333', profile_use_background_image=True, has_extended_profile=False, default_profile=True, default_profile_image=False, following=False, follow_request_sent=None, notifications=None, translator_type='none'), geo=None, coordinates=None, place=None, contributors=None, is_quote_status=False, retweet_count=0, favorite_count=0, favorited=False, retweeted=False, possibly_sensitive=False, lang='en')\n"
     ]
    }
   ],
   "source": [
    "pp.pprint(tweet)"
   ]
  },
  {
   "cell_type": "code",
   "execution_count": null,
   "metadata": {},
   "outputs": [],
   "source": []
  },
  {
   "cell_type": "code",
   "execution_count": null,
   "metadata": {},
   "outputs": [],
   "source": []
  }
 ],
 "metadata": {
  "kernelspec": {
   "display_name": "Python 3",
   "language": "python",
   "name": "python3"
  },
  "language_info": {
   "codemirror_mode": {
    "name": "ipython",
    "version": 3
   },
   "file_extension": ".py",
   "mimetype": "text/x-python",
   "name": "python",
   "nbconvert_exporter": "python",
   "pygments_lexer": "ipython3",
   "version": "3.7.3"
  }
 },
 "nbformat": 4,
 "nbformat_minor": 4
}
